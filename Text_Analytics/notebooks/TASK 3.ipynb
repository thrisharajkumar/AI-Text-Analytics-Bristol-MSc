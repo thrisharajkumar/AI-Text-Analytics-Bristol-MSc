{
 "cells": [
  {
   "cell_type": "markdown",
   "id": "8682f072",
   "metadata": {},
   "source": [
    "# Named Entity Recognition (NER) for Twitter Data\n",
    "**Dataset:** Broad Twitter Corpus (BTC)"
   ]
  },
  {
   "cell_type": "code",
   "execution_count": 1,
   "id": "471a3599",
   "metadata": {},
   "outputs": [
    {
     "name": "stderr",
     "output_type": "stream",
     "text": [
      "DEPRECATION: Loading egg at c:\\users\\pc\\anaconda3\\envs\\text_analytics\\lib\\site-packages\\huggingface_hub-0.29.1-py3.8.egg is deprecated. pip 25.1 will enforce this behaviour change. A possible replacement is to use pip for package installation. Discussion can be found at https://github.com/pypa/pip/issues/12330\n"
     ]
    }
   ],
   "source": [
    "!pip install -q datasets nltk sklearn-crfsuite emoji tqdm\n",
    "# installing the libraries required for the task\n",
    "# datasets to load the Broad Twitter dataset using HuggingFace datasets\n",
    "# nltk for NLP preprocessing steps such as POStags, stopword filtering and tokenization\n",
    "# sklearn-crfsuite for CRF model\n",
    "# emoji for emoji processing"
   ]
  },
  {
   "cell_type": "code",
   "execution_count": 2,
   "id": "57a3f9ac",
   "metadata": {},
   "outputs": [
    {
     "name": "stderr",
     "output_type": "stream",
     "text": [
      "[nltk_data] Downloading package punkt to C:\\Users\\pc/nltk_data...\n",
      "[nltk_data]   Package punkt is already up-to-date!\n",
      "[nltk_data] Downloading package stopwords to C:\\Users\\pc/nltk_data...\n",
      "[nltk_data]   Package stopwords is already up-to-date!\n",
      "[nltk_data] Downloading package wordnet to C:\\Users\\pc/nltk_data...\n",
      "[nltk_data]   Package wordnet is already up-to-date!\n",
      "[nltk_data] Downloading package averaged_perceptron_tagger to\n",
      "[nltk_data]     C:\\Users\\pc/nltk_data...\n",
      "[nltk_data]   Package averaged_perceptron_tagger is already up-to-\n",
      "[nltk_data]       date!\n"
     ]
    },
    {
     "data": {
      "text/plain": [
       "True"
      ]
     },
     "execution_count": 2,
     "metadata": {},
     "output_type": "execute_result"
    }
   ],
   "source": [
    "# importing the required libraies for TASK CRF modelling \n",
    "import pandas as pd\n",
    "import nltk\n",
    "import string\n",
    "import re\n",
    "import emoji\n",
    "from datasets import load_dataset\n",
    "from nltk.tokenize import word_tokenize\n",
    "from nltk.corpus import stopwords\n",
    "from nltk.stem import WordNetLemmatizer\n",
    "from sklearn_crfsuite import CRF, metrics\n",
    "from tqdm import tqdm\n",
    "\n",
    "nltk.download('punkt')\n",
    "nltk.download('stopwords')\n",
    "nltk.download('wordnet')\n",
    "nltk.download('averaged_perceptron_tagger')\n"
   ]
  },
  {
   "cell_type": "code",
   "execution_count": 3,
   "id": "7896d229",
   "metadata": {},
   "outputs": [
    {
     "data": {
      "text/html": [
       "<div>\n",
       "<style scoped>\n",
       "    .dataframe tbody tr th:only-of-type {\n",
       "        vertical-align: middle;\n",
       "    }\n",
       "\n",
       "    .dataframe tbody tr th {\n",
       "        vertical-align: top;\n",
       "    }\n",
       "\n",
       "    .dataframe thead th {\n",
       "        text-align: right;\n",
       "    }\n",
       "</style>\n",
       "<table border=\"1\" class=\"dataframe\">\n",
       "  <thead>\n",
       "    <tr style=\"text-align: right;\">\n",
       "      <th></th>\n",
       "      <th>tokens</th>\n",
       "      <th>tags</th>\n",
       "    </tr>\n",
       "  </thead>\n",
       "  <tbody>\n",
       "    <tr>\n",
       "      <th>0</th>\n",
       "      <td>[I, hate, the, words, chunder, ,, vomit, and, ...</td>\n",
       "      <td>[6, 6, 6, 6, 6, 6, 6, 6, 6, 6, 6, 6]</td>\n",
       "    </tr>\n",
       "    <tr>\n",
       "      <th>1</th>\n",
       "      <td>[♥, ., ., ), ), (, ♫, ., (, ړײ, ), ♫, ., ♥, .,...</td>\n",
       "      <td>[6, 6, 6, 6, 6, 6, 6, 6, 6, 6, 6, 6, 6, 6, 6, ...</td>\n",
       "    </tr>\n",
       "    <tr>\n",
       "      <th>2</th>\n",
       "      <td>[Alesan, kenapa, mlm, kita, lbh, srg, galau, P...</td>\n",
       "      <td>[6, 6, 6, 6, 6, 6, 6, 6, 6, 6, 6, 6, 6, 6, 6, ...</td>\n",
       "    </tr>\n",
       "    <tr>\n",
       "      <th>3</th>\n",
       "      <td>[Complete, Tosca, on, the, tube, http://t.co/O...</td>\n",
       "      <td>[6, 6, 6, 6, 6, 6]</td>\n",
       "    </tr>\n",
       "    <tr>\n",
       "      <th>4</th>\n",
       "      <td>[Think, you, call, that, smash, and, grab, ., ...</td>\n",
       "      <td>[6, 6, 6, 6, 6, 6, 6, 6, 6, 0, 6, 6, 6, 6, 6, ...</td>\n",
       "    </tr>\n",
       "  </tbody>\n",
       "</table>\n",
       "</div>"
      ],
      "text/plain": [
       "                                              tokens  \\\n",
       "0  [I, hate, the, words, chunder, ,, vomit, and, ...   \n",
       "1  [♥, ., ., ), ), (, ♫, ., (, ړײ, ), ♫, ., ♥, .,...   \n",
       "2  [Alesan, kenapa, mlm, kita, lbh, srg, galau, P...   \n",
       "3  [Complete, Tosca, on, the, tube, http://t.co/O...   \n",
       "4  [Think, you, call, that, smash, and, grab, ., ...   \n",
       "\n",
       "                                                tags  \n",
       "0               [6, 6, 6, 6, 6, 6, 6, 6, 6, 6, 6, 6]  \n",
       "1  [6, 6, 6, 6, 6, 6, 6, 6, 6, 6, 6, 6, 6, 6, 6, ...  \n",
       "2  [6, 6, 6, 6, 6, 6, 6, 6, 6, 6, 6, 6, 6, 6, 6, ...  \n",
       "3                                 [6, 6, 6, 6, 6, 6]  \n",
       "4  [6, 6, 6, 6, 6, 6, 6, 6, 6, 0, 6, 6, 6, 6, 6, ...  "
      ]
     },
     "execution_count": 3,
     "metadata": {},
     "output_type": "execute_result"
    }
   ],
   "source": [
    "# Loading thw Broad Twitter dataset\n",
    "# creating dataframes for the train, test and validation data splits\n",
    "dataset = load_dataset(\"tner/btc\")\n",
    "train_df = pd.DataFrame(dataset['train'])\n",
    "valid_df = pd.DataFrame(dataset['validation'])\n",
    "test_df = pd.DataFrame(dataset['test'])\n",
    "# checking the head to check the training data\n",
    "train_df.head()"
   ]
  },
  {
   "cell_type": "markdown",
   "id": "4bf3a385",
   "metadata": {},
   "source": [
    "#### POS tagging and Feature Engineering for CRF model "
   ]
  },
  {
   "cell_type": "code",
   "execution_count": null,
   "id": "f4e4d58b",
   "metadata": {},
   "outputs": [],
   "source": [
    "import spacy\n",
    "nlp = spacy.load('en_core_web_sm')\n",
    "# In each row joiing the tokens to make a sentence and get the Parts-of-Speech tags \n",
    "train_df['pos_tags'] = train_df['tokens'].apply(lambda tokens: [token.pos_ for token in nlp(' '.join(tokens))])\n",
    "valid_df['pos_tags'] = valid_df['tokens'].apply(lambda tokens: [token.pos_ for token in nlp(' '.join(tokens))])\n",
    "test_df['pos_tags'] = test_df['tokens'].apply(lambda tokens: [token.pos_ for token in nlp(' '.join(tokens))])"
   ]
  },
  {
   "cell_type": "markdown",
   "id": "ab7e22d8",
   "metadata": {},
   "source": [
    "#### Token Preprocessing"
   ]
  },
  {
   "cell_type": "code",
   "execution_count": 6,
   "id": "249f9f9e",
   "metadata": {},
   "outputs": [],
   "source": [
    "stop_words = set(stopwords.words('english'))\n",
    "lemmatizer = WordNetLemmatizer()\n",
    "# As the twitter data contains emojis it iwill create noise intead of removing it we can retain it in the form of words o tokens\n",
    "# the emojis textual meaning using the emoji library\n",
    "def convert_emojis(tokens):\n",
    "    return [emoji.demojize(token).replace(\":\", \"\").replace(\"_\", \" \") if token in emoji.EMOJI_DATA else token for token in tokens]\n",
    "def preprocess_tokens(tokens):\n",
    "    tokens = [token.lower() for token in tokens] #lowercasing and normalization of the text\n",
    "    tokens = convert_emojis(tokens)  # converted the emojis \n",
    "    tokens = [token for token in tokens if token not in stop_words] # removed the stop words like the, and, or etc. \n",
    "    tokens = [lemmatizer.lemmatize(token) for token in tokens] # reducing the words to its root fofrm using the lemmatization technique \n",
    "\n",
    "    tokens = [token for token in tokens if re.match(r'[A-Za-z]+', token)] # this pny retains the necessary text data and removes the punctuations and other special tokens \n",
    "    return tokens\n",
    "train_df['processed_tokens'] = train_df['tokens'].apply(preprocess_tokens)\n",
    "valid_df['processed_tokens'] = valid_df['tokens'].apply(preprocess_tokens)\n",
    "test_df['processed_tokens'] = test_df['tokens'].apply(preprocess_tokens)"
   ]
  },
  {
   "cell_type": "markdown",
   "id": "d51db409",
   "metadata": {},
   "source": [
    "#### Feature Extraction"
   ]
  },
  {
   "cell_type": "code",
   "execution_count": 7,
   "id": "86e5f4e3",
   "metadata": {},
   "outputs": [],
   "source": [
    "# Feature extraction for the CRF is one of the important NLP steps to acwuire the contextual features\n",
    "def word2features(sent, i):\n",
    "    word = sent[i]\n",
    "    # For each word getting the lexical features \n",
    "    features = {\n",
    "        'bias': 1.0,\n",
    "        'word.lower()': word.lower(),\n",
    "        'word[-3:]': word[-3:],\n",
    "        'word[-2:]': word[-2:],\n",
    "        'word.isupper()': word.isupper(),\n",
    "        'word.istitle()': word.istitle(),\n",
    "        'word.isdigit()': word.isdigit(),\n",
    "    }\n",
    "    if i > 0:\n",
    "        word1 = sent[i-1]\n",
    "        features.update({\n",
    "            '-1:word.lower()': word1.lower(),\n",
    "            '-1:word.istitle()': word1.istitle(),\n",
    "            '-1:word.isupper()': word1.isupper(),\n",
    "        })\n",
    "    else:\n",
    "        features['BOS'] = True # Beginning boundaryof the sentences\n",
    "\n",
    "    if i < len(sent)-1:\n",
    "        word1 = sent[i+1]\n",
    "        features.update({\n",
    "            '+1:word.lower()': word1.lower(),\n",
    "            '+1:word.istitle()': word1.istitle(),\n",
    "            '+1:word.isupper()': word1.isupper(),\n",
    "        })\n",
    "    else:\n",
    "        features['EOS'] = True # End boundary of the sentences\n",
    "\n",
    "    return features\n",
    "\n",
    "# extracting features for all words in a token sequence\n",
    "def extract_features(tokens):\n",
    "    return [word2features(tokens, i) for i in range(len(tokens))]\n",
    "# BIO formatting for NER CRF modellong\n",
    "def get_labels(entities):\n",
    "    return entities"
   ]
  },
  {
   "cell_type": "code",
   "execution_count": 8,
   "id": "8f497225",
   "metadata": {},
   "outputs": [],
   "source": [
    "# tokens feature extracction for all the datsets train, test and Validation\n",
    "X_train = [extract_features(s) for s in train_df['tokens']]\n",
    "y_train = [get_labels(s) for s in train_df['tags']]\n",
    "X_valid = [extract_features(s) for s in valid_df['tokens']]\n",
    "y_valid = [get_labels(s) for s in valid_df['tags']]\n",
    "X_test = [extract_features(s) for s in test_df['tokens']]\n",
    "y_test = [get_labels(s) for s in test_df['tags']]"
   ]
  },
  {
   "cell_type": "code",
   "execution_count": 9,
   "id": "75d4b1f0",
   "metadata": {},
   "outputs": [],
   "source": [
    "# label mapping the dataset features\n",
    "label_list = dataset['train'].features['tags'].feature.names\n",
    "def decode_labels(label_ids):\n",
    "    return [label_list[i] for i in label_ids]\n",
    "# again apply to the datsets \n",
    "y_train = train_df['tags'].apply(decode_labels).tolist()\n",
    "y_valid = valid_df['tags'].apply(decode_labels).tolist()\n",
    "y_test = test_df['tags'].apply(decode_labels).tolist()"
   ]
  },
  {
   "cell_type": "markdown",
   "id": "47428884",
   "metadata": {},
   "source": [
    "## CRF Model Training"
   ]
  },
  {
   "cell_type": "code",
   "execution_count": 10,
   "id": "031942a3",
   "metadata": {},
   "outputs": [
    {
     "data": {
      "text/html": [
       "<style>#sk-container-id-1 {\n",
       "  /* Definition of color scheme common for light and dark mode */\n",
       "  --sklearn-color-text: #000;\n",
       "  --sklearn-color-text-muted: #666;\n",
       "  --sklearn-color-line: gray;\n",
       "  /* Definition of color scheme for unfitted estimators */\n",
       "  --sklearn-color-unfitted-level-0: #fff5e6;\n",
       "  --sklearn-color-unfitted-level-1: #f6e4d2;\n",
       "  --sklearn-color-unfitted-level-2: #ffe0b3;\n",
       "  --sklearn-color-unfitted-level-3: chocolate;\n",
       "  /* Definition of color scheme for fitted estimators */\n",
       "  --sklearn-color-fitted-level-0: #f0f8ff;\n",
       "  --sklearn-color-fitted-level-1: #d4ebff;\n",
       "  --sklearn-color-fitted-level-2: #b3dbfd;\n",
       "  --sklearn-color-fitted-level-3: cornflowerblue;\n",
       "\n",
       "  /* Specific color for light theme */\n",
       "  --sklearn-color-text-on-default-background: var(--sg-text-color, var(--theme-code-foreground, var(--jp-content-font-color1, black)));\n",
       "  --sklearn-color-background: var(--sg-background-color, var(--theme-background, var(--jp-layout-color0, white)));\n",
       "  --sklearn-color-border-box: var(--sg-text-color, var(--theme-code-foreground, var(--jp-content-font-color1, black)));\n",
       "  --sklearn-color-icon: #696969;\n",
       "\n",
       "  @media (prefers-color-scheme: dark) {\n",
       "    /* Redefinition of color scheme for dark theme */\n",
       "    --sklearn-color-text-on-default-background: var(--sg-text-color, var(--theme-code-foreground, var(--jp-content-font-color1, white)));\n",
       "    --sklearn-color-background: var(--sg-background-color, var(--theme-background, var(--jp-layout-color0, #111)));\n",
       "    --sklearn-color-border-box: var(--sg-text-color, var(--theme-code-foreground, var(--jp-content-font-color1, white)));\n",
       "    --sklearn-color-icon: #878787;\n",
       "  }\n",
       "}\n",
       "\n",
       "#sk-container-id-1 {\n",
       "  color: var(--sklearn-color-text);\n",
       "}\n",
       "\n",
       "#sk-container-id-1 pre {\n",
       "  padding: 0;\n",
       "}\n",
       "\n",
       "#sk-container-id-1 input.sk-hidden--visually {\n",
       "  border: 0;\n",
       "  clip: rect(1px 1px 1px 1px);\n",
       "  clip: rect(1px, 1px, 1px, 1px);\n",
       "  height: 1px;\n",
       "  margin: -1px;\n",
       "  overflow: hidden;\n",
       "  padding: 0;\n",
       "  position: absolute;\n",
       "  width: 1px;\n",
       "}\n",
       "\n",
       "#sk-container-id-1 div.sk-dashed-wrapped {\n",
       "  border: 1px dashed var(--sklearn-color-line);\n",
       "  margin: 0 0.4em 0.5em 0.4em;\n",
       "  box-sizing: border-box;\n",
       "  padding-bottom: 0.4em;\n",
       "  background-color: var(--sklearn-color-background);\n",
       "}\n",
       "\n",
       "#sk-container-id-1 div.sk-container {\n",
       "  /* jupyter's `normalize.less` sets `[hidden] { display: none; }`\n",
       "     but bootstrap.min.css set `[hidden] { display: none !important; }`\n",
       "     so we also need the `!important` here to be able to override the\n",
       "     default hidden behavior on the sphinx rendered scikit-learn.org.\n",
       "     See: https://github.com/scikit-learn/scikit-learn/issues/21755 */\n",
       "  display: inline-block !important;\n",
       "  position: relative;\n",
       "}\n",
       "\n",
       "#sk-container-id-1 div.sk-text-repr-fallback {\n",
       "  display: none;\n",
       "}\n",
       "\n",
       "div.sk-parallel-item,\n",
       "div.sk-serial,\n",
       "div.sk-item {\n",
       "  /* draw centered vertical line to link estimators */\n",
       "  background-image: linear-gradient(var(--sklearn-color-text-on-default-background), var(--sklearn-color-text-on-default-background));\n",
       "  background-size: 2px 100%;\n",
       "  background-repeat: no-repeat;\n",
       "  background-position: center center;\n",
       "}\n",
       "\n",
       "/* Parallel-specific style estimator block */\n",
       "\n",
       "#sk-container-id-1 div.sk-parallel-item::after {\n",
       "  content: \"\";\n",
       "  width: 100%;\n",
       "  border-bottom: 2px solid var(--sklearn-color-text-on-default-background);\n",
       "  flex-grow: 1;\n",
       "}\n",
       "\n",
       "#sk-container-id-1 div.sk-parallel {\n",
       "  display: flex;\n",
       "  align-items: stretch;\n",
       "  justify-content: center;\n",
       "  background-color: var(--sklearn-color-background);\n",
       "  position: relative;\n",
       "}\n",
       "\n",
       "#sk-container-id-1 div.sk-parallel-item {\n",
       "  display: flex;\n",
       "  flex-direction: column;\n",
       "}\n",
       "\n",
       "#sk-container-id-1 div.sk-parallel-item:first-child::after {\n",
       "  align-self: flex-end;\n",
       "  width: 50%;\n",
       "}\n",
       "\n",
       "#sk-container-id-1 div.sk-parallel-item:last-child::after {\n",
       "  align-self: flex-start;\n",
       "  width: 50%;\n",
       "}\n",
       "\n",
       "#sk-container-id-1 div.sk-parallel-item:only-child::after {\n",
       "  width: 0;\n",
       "}\n",
       "\n",
       "/* Serial-specific style estimator block */\n",
       "\n",
       "#sk-container-id-1 div.sk-serial {\n",
       "  display: flex;\n",
       "  flex-direction: column;\n",
       "  align-items: center;\n",
       "  background-color: var(--sklearn-color-background);\n",
       "  padding-right: 1em;\n",
       "  padding-left: 1em;\n",
       "}\n",
       "\n",
       "\n",
       "/* Toggleable style: style used for estimator/Pipeline/ColumnTransformer box that is\n",
       "clickable and can be expanded/collapsed.\n",
       "- Pipeline and ColumnTransformer use this feature and define the default style\n",
       "- Estimators will overwrite some part of the style using the `sk-estimator` class\n",
       "*/\n",
       "\n",
       "/* Pipeline and ColumnTransformer style (default) */\n",
       "\n",
       "#sk-container-id-1 div.sk-toggleable {\n",
       "  /* Default theme specific background. It is overwritten whether we have a\n",
       "  specific estimator or a Pipeline/ColumnTransformer */\n",
       "  background-color: var(--sklearn-color-background);\n",
       "}\n",
       "\n",
       "/* Toggleable label */\n",
       "#sk-container-id-1 label.sk-toggleable__label {\n",
       "  cursor: pointer;\n",
       "  display: flex;\n",
       "  width: 100%;\n",
       "  margin-bottom: 0;\n",
       "  padding: 0.5em;\n",
       "  box-sizing: border-box;\n",
       "  text-align: center;\n",
       "  align-items: start;\n",
       "  justify-content: space-between;\n",
       "  gap: 0.5em;\n",
       "}\n",
       "\n",
       "#sk-container-id-1 label.sk-toggleable__label .caption {\n",
       "  font-size: 0.6rem;\n",
       "  font-weight: lighter;\n",
       "  color: var(--sklearn-color-text-muted);\n",
       "}\n",
       "\n",
       "#sk-container-id-1 label.sk-toggleable__label-arrow:before {\n",
       "  /* Arrow on the left of the label */\n",
       "  content: \"▸\";\n",
       "  float: left;\n",
       "  margin-right: 0.25em;\n",
       "  color: var(--sklearn-color-icon);\n",
       "}\n",
       "\n",
       "#sk-container-id-1 label.sk-toggleable__label-arrow:hover:before {\n",
       "  color: var(--sklearn-color-text);\n",
       "}\n",
       "\n",
       "/* Toggleable content - dropdown */\n",
       "\n",
       "#sk-container-id-1 div.sk-toggleable__content {\n",
       "  max-height: 0;\n",
       "  max-width: 0;\n",
       "  overflow: hidden;\n",
       "  text-align: left;\n",
       "  /* unfitted */\n",
       "  background-color: var(--sklearn-color-unfitted-level-0);\n",
       "}\n",
       "\n",
       "#sk-container-id-1 div.sk-toggleable__content.fitted {\n",
       "  /* fitted */\n",
       "  background-color: var(--sklearn-color-fitted-level-0);\n",
       "}\n",
       "\n",
       "#sk-container-id-1 div.sk-toggleable__content pre {\n",
       "  margin: 0.2em;\n",
       "  border-radius: 0.25em;\n",
       "  color: var(--sklearn-color-text);\n",
       "  /* unfitted */\n",
       "  background-color: var(--sklearn-color-unfitted-level-0);\n",
       "}\n",
       "\n",
       "#sk-container-id-1 div.sk-toggleable__content.fitted pre {\n",
       "  /* unfitted */\n",
       "  background-color: var(--sklearn-color-fitted-level-0);\n",
       "}\n",
       "\n",
       "#sk-container-id-1 input.sk-toggleable__control:checked~div.sk-toggleable__content {\n",
       "  /* Expand drop-down */\n",
       "  max-height: 200px;\n",
       "  max-width: 100%;\n",
       "  overflow: auto;\n",
       "}\n",
       "\n",
       "#sk-container-id-1 input.sk-toggleable__control:checked~label.sk-toggleable__label-arrow:before {\n",
       "  content: \"▾\";\n",
       "}\n",
       "\n",
       "/* Pipeline/ColumnTransformer-specific style */\n",
       "\n",
       "#sk-container-id-1 div.sk-label input.sk-toggleable__control:checked~label.sk-toggleable__label {\n",
       "  color: var(--sklearn-color-text);\n",
       "  background-color: var(--sklearn-color-unfitted-level-2);\n",
       "}\n",
       "\n",
       "#sk-container-id-1 div.sk-label.fitted input.sk-toggleable__control:checked~label.sk-toggleable__label {\n",
       "  background-color: var(--sklearn-color-fitted-level-2);\n",
       "}\n",
       "\n",
       "/* Estimator-specific style */\n",
       "\n",
       "/* Colorize estimator box */\n",
       "#sk-container-id-1 div.sk-estimator input.sk-toggleable__control:checked~label.sk-toggleable__label {\n",
       "  /* unfitted */\n",
       "  background-color: var(--sklearn-color-unfitted-level-2);\n",
       "}\n",
       "\n",
       "#sk-container-id-1 div.sk-estimator.fitted input.sk-toggleable__control:checked~label.sk-toggleable__label {\n",
       "  /* fitted */\n",
       "  background-color: var(--sklearn-color-fitted-level-2);\n",
       "}\n",
       "\n",
       "#sk-container-id-1 div.sk-label label.sk-toggleable__label,\n",
       "#sk-container-id-1 div.sk-label label {\n",
       "  /* The background is the default theme color */\n",
       "  color: var(--sklearn-color-text-on-default-background);\n",
       "}\n",
       "\n",
       "/* On hover, darken the color of the background */\n",
       "#sk-container-id-1 div.sk-label:hover label.sk-toggleable__label {\n",
       "  color: var(--sklearn-color-text);\n",
       "  background-color: var(--sklearn-color-unfitted-level-2);\n",
       "}\n",
       "\n",
       "/* Label box, darken color on hover, fitted */\n",
       "#sk-container-id-1 div.sk-label.fitted:hover label.sk-toggleable__label.fitted {\n",
       "  color: var(--sklearn-color-text);\n",
       "  background-color: var(--sklearn-color-fitted-level-2);\n",
       "}\n",
       "\n",
       "/* Estimator label */\n",
       "\n",
       "#sk-container-id-1 div.sk-label label {\n",
       "  font-family: monospace;\n",
       "  font-weight: bold;\n",
       "  display: inline-block;\n",
       "  line-height: 1.2em;\n",
       "}\n",
       "\n",
       "#sk-container-id-1 div.sk-label-container {\n",
       "  text-align: center;\n",
       "}\n",
       "\n",
       "/* Estimator-specific */\n",
       "#sk-container-id-1 div.sk-estimator {\n",
       "  font-family: monospace;\n",
       "  border: 1px dotted var(--sklearn-color-border-box);\n",
       "  border-radius: 0.25em;\n",
       "  box-sizing: border-box;\n",
       "  margin-bottom: 0.5em;\n",
       "  /* unfitted */\n",
       "  background-color: var(--sklearn-color-unfitted-level-0);\n",
       "}\n",
       "\n",
       "#sk-container-id-1 div.sk-estimator.fitted {\n",
       "  /* fitted */\n",
       "  background-color: var(--sklearn-color-fitted-level-0);\n",
       "}\n",
       "\n",
       "/* on hover */\n",
       "#sk-container-id-1 div.sk-estimator:hover {\n",
       "  /* unfitted */\n",
       "  background-color: var(--sklearn-color-unfitted-level-2);\n",
       "}\n",
       "\n",
       "#sk-container-id-1 div.sk-estimator.fitted:hover {\n",
       "  /* fitted */\n",
       "  background-color: var(--sklearn-color-fitted-level-2);\n",
       "}\n",
       "\n",
       "/* Specification for estimator info (e.g. \"i\" and \"?\") */\n",
       "\n",
       "/* Common style for \"i\" and \"?\" */\n",
       "\n",
       ".sk-estimator-doc-link,\n",
       "a:link.sk-estimator-doc-link,\n",
       "a:visited.sk-estimator-doc-link {\n",
       "  float: right;\n",
       "  font-size: smaller;\n",
       "  line-height: 1em;\n",
       "  font-family: monospace;\n",
       "  background-color: var(--sklearn-color-background);\n",
       "  border-radius: 1em;\n",
       "  height: 1em;\n",
       "  width: 1em;\n",
       "  text-decoration: none !important;\n",
       "  margin-left: 0.5em;\n",
       "  text-align: center;\n",
       "  /* unfitted */\n",
       "  border: var(--sklearn-color-unfitted-level-1) 1pt solid;\n",
       "  color: var(--sklearn-color-unfitted-level-1);\n",
       "}\n",
       "\n",
       ".sk-estimator-doc-link.fitted,\n",
       "a:link.sk-estimator-doc-link.fitted,\n",
       "a:visited.sk-estimator-doc-link.fitted {\n",
       "  /* fitted */\n",
       "  border: var(--sklearn-color-fitted-level-1) 1pt solid;\n",
       "  color: var(--sklearn-color-fitted-level-1);\n",
       "}\n",
       "\n",
       "/* On hover */\n",
       "div.sk-estimator:hover .sk-estimator-doc-link:hover,\n",
       ".sk-estimator-doc-link:hover,\n",
       "div.sk-label-container:hover .sk-estimator-doc-link:hover,\n",
       ".sk-estimator-doc-link:hover {\n",
       "  /* unfitted */\n",
       "  background-color: var(--sklearn-color-unfitted-level-3);\n",
       "  color: var(--sklearn-color-background);\n",
       "  text-decoration: none;\n",
       "}\n",
       "\n",
       "div.sk-estimator.fitted:hover .sk-estimator-doc-link.fitted:hover,\n",
       ".sk-estimator-doc-link.fitted:hover,\n",
       "div.sk-label-container:hover .sk-estimator-doc-link.fitted:hover,\n",
       ".sk-estimator-doc-link.fitted:hover {\n",
       "  /* fitted */\n",
       "  background-color: var(--sklearn-color-fitted-level-3);\n",
       "  color: var(--sklearn-color-background);\n",
       "  text-decoration: none;\n",
       "}\n",
       "\n",
       "/* Span, style for the box shown on hovering the info icon */\n",
       ".sk-estimator-doc-link span {\n",
       "  display: none;\n",
       "  z-index: 9999;\n",
       "  position: relative;\n",
       "  font-weight: normal;\n",
       "  right: .2ex;\n",
       "  padding: .5ex;\n",
       "  margin: .5ex;\n",
       "  width: min-content;\n",
       "  min-width: 20ex;\n",
       "  max-width: 50ex;\n",
       "  color: var(--sklearn-color-text);\n",
       "  box-shadow: 2pt 2pt 4pt #999;\n",
       "  /* unfitted */\n",
       "  background: var(--sklearn-color-unfitted-level-0);\n",
       "  border: .5pt solid var(--sklearn-color-unfitted-level-3);\n",
       "}\n",
       "\n",
       ".sk-estimator-doc-link.fitted span {\n",
       "  /* fitted */\n",
       "  background: var(--sklearn-color-fitted-level-0);\n",
       "  border: var(--sklearn-color-fitted-level-3);\n",
       "}\n",
       "\n",
       ".sk-estimator-doc-link:hover span {\n",
       "  display: block;\n",
       "}\n",
       "\n",
       "/* \"?\"-specific style due to the `<a>` HTML tag */\n",
       "\n",
       "#sk-container-id-1 a.estimator_doc_link {\n",
       "  float: right;\n",
       "  font-size: 1rem;\n",
       "  line-height: 1em;\n",
       "  font-family: monospace;\n",
       "  background-color: var(--sklearn-color-background);\n",
       "  border-radius: 1rem;\n",
       "  height: 1rem;\n",
       "  width: 1rem;\n",
       "  text-decoration: none;\n",
       "  /* unfitted */\n",
       "  color: var(--sklearn-color-unfitted-level-1);\n",
       "  border: var(--sklearn-color-unfitted-level-1) 1pt solid;\n",
       "}\n",
       "\n",
       "#sk-container-id-1 a.estimator_doc_link.fitted {\n",
       "  /* fitted */\n",
       "  border: var(--sklearn-color-fitted-level-1) 1pt solid;\n",
       "  color: var(--sklearn-color-fitted-level-1);\n",
       "}\n",
       "\n",
       "/* On hover */\n",
       "#sk-container-id-1 a.estimator_doc_link:hover {\n",
       "  /* unfitted */\n",
       "  background-color: var(--sklearn-color-unfitted-level-3);\n",
       "  color: var(--sklearn-color-background);\n",
       "  text-decoration: none;\n",
       "}\n",
       "\n",
       "#sk-container-id-1 a.estimator_doc_link.fitted:hover {\n",
       "  /* fitted */\n",
       "  background-color: var(--sklearn-color-fitted-level-3);\n",
       "}\n",
       "</style><div id=\"sk-container-id-1\" class=\"sk-top-container\"><div class=\"sk-text-repr-fallback\"><pre>CRF(algorithm=&#x27;lbfgs&#x27;, all_possible_transitions=True, max_iterations=100)</pre><b>In a Jupyter environment, please rerun this cell to show the HTML representation or trust the notebook. <br />On GitHub, the HTML representation is unable to render, please try loading this page with nbviewer.org.</b></div><div class=\"sk-container\" hidden><div class=\"sk-item\"><div class=\"sk-estimator fitted sk-toggleable\"><input class=\"sk-toggleable__control sk-hidden--visually\" id=\"sk-estimator-id-1\" type=\"checkbox\" checked><label for=\"sk-estimator-id-1\" class=\"sk-toggleable__label fitted sk-toggleable__label-arrow\"><div><div>CRF</div></div><div><span class=\"sk-estimator-doc-link fitted\">i<span>Fitted</span></span></div></label><div class=\"sk-toggleable__content fitted\"><pre>CRF(algorithm=&#x27;lbfgs&#x27;, all_possible_transitions=True, max_iterations=100)</pre></div> </div></div></div></div>"
      ],
      "text/plain": [
       "CRF(algorithm='lbfgs', all_possible_transitions=True, max_iterations=100)"
      ]
     },
     "execution_count": 10,
     "metadata": {},
     "output_type": "execute_result"
    }
   ],
   "source": [
    "crf = CRF(algorithm='lbfgs', max_iterations=100, all_possible_transitions=True)\n",
    "crf.fit(X_train, y_train)"
   ]
  },
  {
   "cell_type": "markdown",
   "id": "568dd6a6",
   "metadata": {},
   "source": [
    "#### Evaluating on Test data Set"
   ]
  },
  {
   "cell_type": "code",
   "execution_count": 11,
   "id": "4447bdff",
   "metadata": {},
   "outputs": [
    {
     "name": "stdout",
     "output_type": "stream",
     "text": [
      "CRF Classification:\n",
      "              precision    recall  f1-score   support\n",
      "\n",
      "       B-LOC      0.765     0.395     0.521       636\n",
      "       B-PER      0.796     0.816     0.806      2650\n",
      "       B-ORG      0.599     0.237     0.339      1090\n",
      "       I-ORG      0.474     0.301     0.368       246\n",
      "       I-PER      0.608     0.662     0.633       269\n",
      "       I-LOC      0.654     0.337     0.444       208\n",
      "\n",
      "   micro avg      0.743     0.587     0.656      5099\n",
      "   macro avg      0.649     0.458     0.519      5099\n",
      "weighted avg      0.719     0.587     0.626      5099\n",
      "\n",
      "Token-level Accuracy: 0.9343\n"
     ]
    }
   ],
   "source": [
    "y_pred = crf.predict(X_test)\n",
    "\n",
    "# Excluding 'O' from the labels so we can get more better results\n",
    "labels = list(crf.classes_)\n",
    "if 'O' in labels:\n",
    "    labels.remove('O')\n",
    "\n",
    "print(\"CRF Classification:\")\n",
    "print(metrics.flat_classification_report(y_test, y_pred, labels=labels, digits=3))\n",
    "\n",
    "correct = sum(p == t for seq_p, seq_t in zip(y_pred, y_test) for p, t in zip(seq_p, seq_t))\n",
    "total = sum(len(seq) for seq in y_test)\n",
    "accuracy = correct / total\n",
    "print(\"Token-level Accuracy:\", round(accuracy, 4))"
   ]
  },
  {
   "cell_type": "code",
   "execution_count": 12,
   "id": "bb2dda06",
   "metadata": {},
   "outputs": [
    {
     "name": "stdout",
     "output_type": "stream",
     "text": [
      "Classification Report CRF:\n",
      "              precision    recall  f1-score   support\n",
      "\n",
      "         LOC      0.830     0.386     0.527       844\n",
      "         ORG      0.683     0.258     0.375      1336\n",
      "         PER      0.814     0.811     0.812      2919\n",
      "\n",
      "   micro avg      0.798     0.596     0.682      5099\n",
      "   macro avg      0.775     0.485     0.571      5099\n",
      "weighted avg      0.782     0.596     0.650      5099\n",
      "\n",
      "\n",
      "Token-level Accuracy: 0.9355\n"
     ]
    }
   ],
   "source": [
    "# perfroming the CRF on the test data and classifying on LOC, ORG and PER \n",
    "\n",
    "def convert_to_coarse_tags(tag_sequence):\n",
    "    return [tag.split('-')[-1] if tag != 'O' else tag for tag in tag_sequence]\n",
    "\n",
    "from sklearn_crfsuite import metrics as crf_metrics\n",
    "y_pred = crf.predict(X_test)\n",
    "\n",
    "def decode_labels(tags): return [label_list[t] for t in tags]\n",
    "y_test = [decode_labels(seq) for seq in test_df['tags']]\n",
    "\n",
    "y_test_coarse = [convert_to_coarse_tags(seq) for seq in y_test]\n",
    "y_pred_coarse = [convert_to_coarse_tags(seq) for seq in y_pred]\n",
    "# Excluded the 'O' labels\n",
    "def filter_out_O(y_true, y_pred):\n",
    "    y_true_filtered, y_pred_filtered = [], []\n",
    "    for t_seq, p_seq in zip(y_true, y_pred):\n",
    "        filtered_t = []\n",
    "        filtered_p = []\n",
    "        for t, p in zip(t_seq, p_seq):\n",
    "            if t != 'O':\n",
    "                filtered_t.append(t)\n",
    "                filtered_p.append(p)\n",
    "        if filtered_t:\n",
    "            y_true_filtered.append(filtered_t)\n",
    "            y_pred_filtered.append(filtered_p)\n",
    "    return y_true_filtered, y_pred_filtered\n",
    "\n",
    "y_test_filtered, y_pred_filtered = filter_out_O(y_test_coarse, y_pred_coarse)\n",
    "\n",
    "\n",
    "# only LOC, ORG and PER for the task as required \n",
    "labels = ['LOC', 'ORG', 'PER']  \n",
    "print(\"Classification Report CRF:\")\n",
    "print(crf_metrics.flat_classification_report(\n",
    "    y_test_filtered, y_pred_filtered, labels=labels, digits=3\n",
    "))\n",
    "\n",
    "correct = sum(p == t for seq_p, seq_t in zip(y_pred_coarse, y_test_coarse) for p, t in zip(seq_p, seq_t))\n",
    "total = sum(len(seq) for seq in y_test_coarse)\n",
    "accuracy = correct / total\n",
    "print(f\"\\nToken-level Accuracy: {accuracy:.4f}\")\n"
   ]
  },
  {
   "cell_type": "code",
   "execution_count": 13,
   "id": "54f9c726",
   "metadata": {},
   "outputs": [
    {
     "name": "stdout",
     "output_type": "stream",
     "text": [
      "Example Entity Span (BIO):\n",
      "It           -> O\n",
      "'s           -> O\n",
      "like         -> O\n",
      "this         -> O\n",
      "Hunico       -> B-PER\n",
      "/            -> I-PER\n",
      "TedDiBiase   -> O\n",
      "match        -> O\n",
      "did          -> O\n",
      "n't          -> O\n",
      "happen       -> O\n",
      ".            -> O\n",
      "Cole         -> B-PER\n",
      "&            -> O\n",
      "Josh         -> B-PER\n",
      "did          -> O\n",
      "n't          -> O\n",
      "even         -> O\n",
      "call         -> O\n",
      "it           -> O\n",
      ",            -> O\n",
      "they         -> O\n",
      "just         -> O\n",
      "spoke        -> O\n",
      "over         -> O\n",
      "it           -> O\n",
      "with         -> O\n",
      "nonsense     -> O\n",
      "#            -> O\n",
      "wwe          -> B-ORG\n"
     ]
    }
   ],
   "source": [
    "# example of the tokens and their BIO-encoded tags\n",
    "example_index = 200 # any row\n",
    "example_tokens = train_df['tokens'][example_index]\n",
    "example_tags = decode_labels(train_df['tags'][example_index])\n",
    "print(\"Example Entity Span (BIO):\")\n",
    "for token, tag in zip(example_tokens, example_tags):\n",
    "    print(f\"{token:<12} -> {tag}\")"
   ]
  },
  {
   "cell_type": "code",
   "execution_count": 15,
   "id": "c9ff88fa",
   "metadata": {},
   "outputs": [
    {
     "name": "stdout",
     "output_type": "stream",
     "text": [
      "CRF Evaluation Table:\n"
     ]
    },
    {
     "data": {
      "text/html": [
       "<div>\n",
       "<style scoped>\n",
       "    .dataframe tbody tr th:only-of-type {\n",
       "        vertical-align: middle;\n",
       "    }\n",
       "\n",
       "    .dataframe tbody tr th {\n",
       "        vertical-align: top;\n",
       "    }\n",
       "\n",
       "    .dataframe thead th {\n",
       "        text-align: right;\n",
       "    }\n",
       "</style>\n",
       "<table border=\"1\" class=\"dataframe\">\n",
       "  <thead>\n",
       "    <tr style=\"text-align: right;\">\n",
       "      <th></th>\n",
       "      <th>precision</th>\n",
       "      <th>recall</th>\n",
       "      <th>f1-score</th>\n",
       "    </tr>\n",
       "  </thead>\n",
       "  <tbody>\n",
       "    <tr>\n",
       "      <th>LOC</th>\n",
       "      <td>0.829517</td>\n",
       "      <td>0.386256</td>\n",
       "      <td>0.527082</td>\n",
       "    </tr>\n",
       "    <tr>\n",
       "      <th>ORG</th>\n",
       "      <td>0.683168</td>\n",
       "      <td>0.258234</td>\n",
       "      <td>0.374796</td>\n",
       "    </tr>\n",
       "    <tr>\n",
       "      <th>PER</th>\n",
       "      <td>0.813682</td>\n",
       "      <td>0.810894</td>\n",
       "      <td>0.812286</td>\n",
       "    </tr>\n",
       "  </tbody>\n",
       "</table>\n",
       "</div>"
      ],
      "text/plain": [
       "     precision    recall  f1-score\n",
       "LOC   0.829517  0.386256  0.527082\n",
       "ORG   0.683168  0.258234  0.374796\n",
       "PER   0.813682  0.810894  0.812286"
      ]
     },
     "metadata": {},
     "output_type": "display_data"
    }
   ],
   "source": [
    "from sklearn_crfsuite.metrics import flat_classification_report\n",
    "from sklearn.metrics import classification_report as sk_class_report\n",
    "\n",
    "report = flat_classification_report(y_test_filtered, y_pred_filtered, labels=['LOC', 'ORG', 'PER'], digits=3, output_dict=True)\n",
    "crf_results_df = pd.DataFrame(report).T\n",
    "crf_results_df = crf_results_df[['precision', 'recall', 'f1-score']]\n",
    "crf_results_df.drop(index=['micro avg', 'macro avg', 'weighted avg', 'samples avg'], errors='ignore', inplace=True)\n",
    "print(\"CRF Evaluation Table:\")\n",
    "display(crf_results_df)"
   ]
  },
  {
   "cell_type": "code",
   "execution_count": null,
   "id": "86c27375",
   "metadata": {},
   "outputs": [
    {
     "name": "stdout",
     "output_type": "stream",
     "text": [
      "\n",
      "Example of CRF Misclassification:\n",
      "Tokens       : ['This', 'morning', 'I', 'met', 'with', 'Senators', 'Inabo', 'and', 'Senior', 'from', 'Palau', 'to', 'discuss', 'my', 'role', 'as', 'Chair', 'of', 'the', 'Public', 'Works', '.', '.', '.', 'http://t.co/McYNwpzHmt']\n",
      "True Labels  : ['PER', 'PER', 'LOC']\n",
      "Pred Labels  : ['ORG', 'O', 'LOC']\n"
     ]
    }
   ],
   "source": [
    "print(\"\\nExample of CRF Misclassification:\")\n",
    "for i, (true_seq, pred_seq, tokens) in enumerate(zip(y_test_filtered, y_pred_filtered, test_df['tokens'])):\n",
    "    if true_seq != pred_seq:\n",
    "        print(f\"Tokens       : {tokens}\")\n",
    "        print(f\"True Labels  : {true_seq}\")\n",
    "        print(f\"Pred Labels  : {pred_seq}\")\n",
    "        break"
   ]
  },
  {
   "cell_type": "code",
   "execution_count": 17,
   "id": "3002b285",
   "metadata": {},
   "outputs": [
    {
     "name": "stdout",
     "output_type": "stream",
     "text": [
      "\n",
      "Processed Tokens Used for CRF Feature Extraction:\n",
      "\n",
      "Example 1:\n",
      "['hate', 'word', 'chunder', 'vomit', 'puke', 'buuh']\n",
      "--------------------------------------------------\n",
      "Example 2:\n",
      "['heart suit', 'heart suit', 'heart suit', 'happy', 'new', 'year']\n",
      "--------------------------------------------------\n",
      "Example 3:\n",
      "['alesan', 'kenapa', 'mlm', 'kita', 'lbh', 'srg', 'galau', 'poconggg', 'twitfakta', 'otak', 'lebih', 'aktif', 'di', 'malam', 'hari', 'dari', 'pada', 'di', 'pagi', 'hari', 'twitfakta']\n",
      "--------------------------------------------------\n",
      "Example 4:\n",
      "['complete', 'tosca', 'tube', 'http://t.co/o90deslb']\n",
      "--------------------------------------------------\n",
      "Example 5:\n",
      "['think', 'call', 'smash', 'grab', 'gateshead', 'medium', 'man', 'admitted', 'daylight', 'robbery', 'shaw', 'touch', 'goal']\n",
      "--------------------------------------------------\n"
     ]
    }
   ],
   "source": [
    "# the processed tokens used in the CRF model\n",
    "\n",
    "def print_processed_tokens(dataset_split, num_examples=5):\n",
    "    print(\"\\nProcessed Tokens Used for CRF Feature Extraction:\\n\")\n",
    "    for i in range(num_examples):\n",
    "        print(f\"Example {i+1}:\")\n",
    "        print(dataset_split['processed_tokens'].iloc[i])\n",
    "        print(\"-\" * 50)\n",
    "\n",
    "print_processed_tokens(train_df, num_examples=5)"
   ]
  },
  {
   "cell_type": "code",
   "execution_count": 18,
   "id": "1f6d36ba",
   "metadata": {},
   "outputs": [
    {
     "name": "stdout",
     "output_type": "stream",
     "text": [
      "\n",
      "Correctly Predicted Tokens for PER:\n",
      "\n",
      "Token: colgo, True Label: PER, Predicted Label: PER\n",
      "Token: alisoncroggon, True Label: PER, Predicted Label: PER\n",
      "Token: AmandaRishworth, True Label: PER, Predicted Label: PER\n",
      "Token: Robin, True Label: PER, Predicted Label: PER\n",
      "Token: Williams, True Label: PER, Predicted Label: PER\n",
      "\n",
      "Correctly Predicted Tokens for ORG:\n",
      "\n",
      "Token: New, True Label: ORG, Predicted Label: ORG\n",
      "Token: York, True Label: ORG, Predicted Label: ORG\n",
      "Token: Times, True Label: ORG, Predicted Label: ORG\n",
      "Token: ADF, True Label: ORG, Predicted Label: ORG\n",
      "Token: NTThunderFC, True Label: ORG, Predicted Label: ORG\n",
      "\n",
      "Correctly Predicted Tokens for LOC:\n",
      "\n",
      "Token: Palau, True Label: LOC, Predicted Label: LOC\n",
      "Token: Aston, True Label: LOC, Predicted Label: LOC\n",
      "Token: Parlt, True Label: LOC, Predicted Label: LOC\n",
      "Token: Australia, True Label: LOC, Predicted Label: LOC\n",
      "Token: Canberra, True Label: LOC, Predicted Label: LOC\n"
     ]
    }
   ],
   "source": [
    "import re\n",
    "# finding the correctly predicted tokens for each entity type toaddress the misclassification\n",
    "def print_correct_predictions_by_entity(entity_type, y_true, y_pred, tokens_list, num_examples=5):\n",
    "   \n",
    "    count = 0\n",
    "    special_token_pattern = re.compile(r'^[a-zA-Z]+$') \n",
    "    print(f\"\\nCorrectly Predicted Tokens for {entity_type}:\\n\")\n",
    "    for true_seq, pred_seq, tokens in zip(y_true, y_pred, tokens_list):\n",
    "        for token, true_label, pred_label in zip(tokens, true_seq, pred_seq):\n",
    "            if (true_label == entity_type) and (pred_label == entity_type) and special_token_pattern.match(token):\n",
    "                print(f\"Token: {token}, True Label: {true_label}, Predicted Label: {pred_label}\")\n",
    "                count += 1\n",
    "                if count >= num_examples:\n",
    "                    return\n",
    "\n",
    "print_correct_predictions_by_entity('PER', y_test_coarse, y_pred_coarse, test_df['tokens'], num_examples=5)\n",
    "print_correct_predictions_by_entity('ORG', y_test_coarse, y_pred_coarse, test_df['tokens'], num_examples=5)\n",
    "print_correct_predictions_by_entity('LOC', y_test_coarse, y_pred_coarse, test_df['tokens'], num_examples=5)"
   ]
  },
  {
   "cell_type": "code",
   "execution_count": 19,
   "id": "518f7fae",
   "metadata": {},
   "outputs": [],
   "source": [
    "# entity span undersanding about the BIO tagging \n",
    "def extract_entity_spans(tokens, tags):\n",
    "    span = []\n",
    "    current_entity = None\n",
    "    for token, tag in zip(tokens, tags):\n",
    "        if tag.startswith(\"B-\"):\n",
    "            if span:\n",
    "                print(f\"Entity: {' '.join(span)} | Type: {current_entity}\")\n",
    "                span = []\n",
    "            current_entity = tag[2:]\n",
    "            span = [token]\n",
    "        elif tag.startswith(\"I-\") and current_entity == tag[2:]:\n",
    "            span.append(token)\n",
    "        else:\n",
    "            if span:\n",
    "                print(f\"Entity: {' '.join(span)} | Type: {current_entity}\")\n",
    "                span = []\n",
    "            current_entity = None\n",
    "    if span:\n",
    "        print(f\"Entity: {' '.join(span)} | Type: {current_entity}\")"
   ]
  },
  {
   "cell_type": "code",
   "execution_count": 20,
   "id": "871e965d",
   "metadata": {},
   "outputs": [
    {
     "name": "stdout",
     "output_type": "stream",
     "text": [
      "Entity: New York Times | Type: ORG\n",
      "Entity: Barack Obama | Type: PER\n"
     ]
    }
   ],
   "source": [
    "tokens = ['New', 'York', 'Times', 'is', 'great', 'and', 'Barack', 'Obama', 'was', 'there']\n",
    "tags = ['B-ORG', 'I-ORG', 'I-ORG', 'O', 'O', 'O', 'B-PER', 'I-PER', 'O', 'O']\n",
    "extract_entity_spans(tokens, tags)"
   ]
  },
  {
   "cell_type": "markdown",
   "id": "377158c9",
   "metadata": {},
   "source": [
    "# BiLSTM + CRF for Named Entity Recognition"
   ]
  },
  {
   "cell_type": "code",
   "execution_count": null,
   "id": "a693e3fe",
   "metadata": {},
   "outputs": [
    {
     "name": "stderr",
     "output_type": "stream",
     "text": [
      "DEPRECATION: Loading egg at c:\\users\\pc\\anaconda3\\envs\\text_analytics\\lib\\site-packages\\huggingface_hub-0.29.1-py3.8.egg is deprecated. pip 25.1 will enforce this behaviour change. A possible replacement is to use pip for package installation. Discussion can be found at https://github.com/pypa/pip/issues/12330\n"
     ]
    }
   ],
   "source": [
    "!pip install -q torch torchcrf seqeval \n",
    "# Torch is needed for the BiLSTM model training\n",
    "# torchcrf for the CRF Layer which is on top of the BiLSTM model\n",
    "# seqeval for perfromance metrics "
   ]
  },
  {
   "cell_type": "code",
   "execution_count": 22,
   "id": "47cec8c6",
   "metadata": {},
   "outputs": [],
   "source": [
    "# Libraries required for the BiLST+ CRF modelling \n",
    "import torch\n",
    "import torch.nn as nn\n",
    "from torch.utils.data import Dataset, DataLoader\n",
    "from seqeval.metrics import classification_report\n",
    "from nltk import pos_tag"
   ]
  },
  {
   "cell_type": "code",
   "execution_count": 24,
   "id": "c7394d71",
   "metadata": {},
   "outputs": [],
   "source": [
    "dataset = load_dataset(\"tner/btc\")\n",
    "\n",
    "# \n",
    "label_list = dataset['train'].features['tags'].feature.names\n",
    "\n",
    "# this function is necesary for later on steps - it converts numerical tag IDs to BIO formatting\n",
    "# we need this for the viewing the seqeval predictions as it is showing error for the numerical IDs \n",
    "# Also helped to see the BIO tagging and help understand the classes or the labelling of the tokens \n",
    "def decode_labels(tags): return [label_list[tag] for tag in tags]\n",
    "\n",
    "# created new dataframs for this model to avoid confusion\n",
    "train_tokens = dataset['train']['tokens']\n",
    "train_labels = [decode_labels(x) for x in dataset['train']['tags']]\n",
    "val_tokens = dataset['validation']['tokens']\n",
    "val_labels = [decode_labels(x) for x in dataset['validation']['tags']]\n",
    "test_tokens = dataset['test']['tokens']\n",
    "test_labels = [decode_labels(x) for x in dataset['test']['tags']]"
   ]
  },
  {
   "cell_type": "code",
   "execution_count": null,
   "id": "e435ab45",
   "metadata": {},
   "outputs": [],
   "source": [
    "from collections import Counter\n",
    "\n",
    "#  creating the word vocabulary\n",
    "#  case folding - lowercasing  similar to the CRF model\n",
    "all_words = [w.lower() for sent in train_tokens for w in sent]\n",
    "word_counter = Counter(all_words) # number of words \n",
    "vocab = [\"<PAD>\", \"<UNK>\"] + [w for w, c in word_counter.items() if c > 1]\n",
    "# word-to-index mapping dictionary\n",
    "word2idx = {w: i for i, w in enumerate(vocab)}\n",
    "\n",
    "# Character level vocabulary extrcation\n",
    "all_chars = set(c for w in vocab for c in w)\n",
    "char2idx = {c: i+1 for i, c in enumerate(all_chars)} \n",
    "char2idx[\"<PAD>\"] = 0\n",
    "\n",
    "# Again this is an important step to tag the indexes to the labels or BIO tags\n",
    "tag2idx = {t: i for i, t in enumerate(label_list)}\n",
    "idx2tag = {i: t for t, i in tag2idx.items()}"
   ]
  },
  {
   "cell_type": "markdown",
   "id": "8a60f59b",
   "metadata": {},
   "source": [
    "#### GloVe Embeddings"
   ]
  },
  {
   "cell_type": "code",
   "execution_count": 26,
   "id": "4681b298",
   "metadata": {},
   "outputs": [],
   "source": [
    "import numpy as np\n",
    "def load_glove(path, word2idx, dim=100):\n",
    "    embeddings = np.random.uniform(-0.25, 0.25, (len(word2idx), dim))\n",
    "    embeddings[word2idx[\"<PAD>\"]] = np.zeros(dim)\n",
    "    with open(path, 'r', encoding='utf-8') as f:\n",
    "        for line in f:\n",
    "            parts = line.strip().split()\n",
    "            word = parts[0]\n",
    "            # vector representation for the words\n",
    "            if word in word2idx:\n",
    "                vector = np.array(parts[1:], dtype=np.float32)\n",
    "                embeddings[word2idx[word]] = vector\n",
    "    return torch.tensor(embeddings).float()\n",
    "\n",
    "# downloaded file - glove embedding 100 dimentional vector representation\n",
    "glove_path = r'C:\\Users\\pc\\Desktop\\Text Aalytics Twitter\\glove.6B.100d.txt'\n",
    "# embedding matrix\n",
    "embedding_matrix = load_glove(glove_path, word2idx, dim=100)"
   ]
  },
  {
   "cell_type": "markdown",
   "id": "d8260af6",
   "metadata": {},
   "source": [
    "#### Encoding Tokens, Tags, Characters, and POS Tags"
   ]
  },
  {
   "cell_type": "code",
   "execution_count": 28,
   "id": "f9b9bd30",
   "metadata": {},
   "outputs": [],
   "source": [
    "# here we are coverting bio format strings to Numeric ID for training our model for pytorch and CRF \n",
    "def encode_tokens(tokens, word2idx, max_len):\n",
    "    return [word2idx.get(w.lower(), word2idx[\"<UNK>\"]) for w in tokens[:max_len]] +  [word2idx[\"<PAD>\"]] * (max_len - len(tokens))\n",
    "\n",
    "def encode_tags(tags, tag2idx, max_len):\n",
    "    return [tag2idx[t] for t in tags[:max_len]] + [tag2idx[\"O\"]] * (max_len - len(tags))\n",
    "\n",
    "def encode_chars(tokens, char2idx, max_len, max_char_len=15):\n",
    "    char_ids = []\n",
    "    # padding the tokens to max length\n",
    "    for word in tokens[:max_len]:\n",
    "        chars = [char2idx.get(c, 0) for c in word[:max_char_len]]\n",
    "        chars += [0] * (max_char_len - len(chars))\n",
    "        char_ids.append(chars)\n",
    "    for _ in range(max_len - len(char_ids)):\n",
    "        char_ids.append([0]*max_char_len)\n",
    "    return char_ids\n",
    "\n",
    "def encode_pos(tokens, max_len):\n",
    "    tags = [tag for _, tag in pos_tag(tokens[:max_len])]\n",
    "    tag2id = {tag: i+1 for i, tag in enumerate(set(tags))}\n",
    "    encoded = [tag2id[t] for t in tags]\n",
    "    return encoded + [0] * (max_len - len(encoded))"
   ]
  },
  {
   "cell_type": "markdown",
   "id": "37d279e2",
   "metadata": {},
   "source": [
    "### NER Dataset - preprocessing and encoding functions"
   ]
  },
  {
   "cell_type": "code",
   "execution_count": 30,
   "id": "694631cb",
   "metadata": {},
   "outputs": [],
   "source": [
    "#   named entity recognition datset to preprocess and encoding functions \n",
    "class NERDataset(Dataset):\n",
    "    def __init__(self, tokens, labels, word2idx, tag2idx, char2idx, max_len=50):\n",
    "        self.tokens = tokens\n",
    "        self.labels = labels\n",
    "        self.word2idx = word2idx\n",
    "        self.tag2idx = tag2idx\n",
    "        self.char2idx = char2idx\n",
    "        self.max_len = max_len\n",
    "\n",
    "    def __len__(self):\n",
    "        return len(self.tokens)\n",
    "\n",
    "    def __getitem__(self, idx):\n",
    "        words = self.tokens[idx]\n",
    "        tags = self.labels[idx]\n",
    "        x = encode_tokens(words, self.word2idx, self.max_len)\n",
    "        y = encode_tags(tags, self.tag2idx, self.max_len)\n",
    "        c = encode_chars(words, self.char2idx, self.max_len)\n",
    "        p = encode_pos(words, self.max_len)\n",
    "\n",
    "        return torch.tensor(x), torch.tensor(y), torch.tensor(c), torch.tensor(p)"
   ]
  },
  {
   "cell_type": "code",
   "execution_count": null,
   "id": "b0fb2907",
   "metadata": {},
   "outputs": [],
   "source": [
    "max_len = 64\n",
    "\n",
    "batch_size = 32\n",
    "\n",
    "train_set = NERDataset(train_tokens, train_labels, word2idx, tag2idx, char2idx, max_len)\n",
    "val_set = NERDataset(val_tokens, val_labels, word2idx, tag2idx, char2idx, max_len)\n",
    "test_set = NERDataset(test_tokens, test_labels, word2idx, tag2idx, char2idx, max_len)\n",
    "\n",
    "train_loader = DataLoader(train_set, batch_size=batch_size)\n",
    "val_loader = DataLoader(val_set, batch_size=batch_size)\n",
    "test_loader = DataLoader(test_set, batch_size=batch_size)"
   ]
  },
  {
   "cell_type": "code",
   "execution_count": 33,
   "id": "6878a4e1",
   "metadata": {},
   "outputs": [],
   "source": [
    "from torchcrf import CRF\n",
    "\n",
    "class BiLSTM_CRF_Model(nn.Module):\n",
    "\n",
    "    # word embedding, character embedding, CNN for char features, \n",
    "    # LSTM for sequence modelling, and CRF for decoding\n",
    "    def __init__(self, word_vocab_size, char_vocab_size, tagset_size, embedding_matrix, hidden_dim=128, char_dim=30, max_char_len=15):\n",
    "        super().__init__()\n",
    "        self.word_emb = nn.Embedding.from_pretrained(embedding_matrix, freeze=False)\n",
    "        self.char_emb = nn.Embedding(char_vocab_size, char_dim, padding_idx=0)\n",
    "        self.char_cnn = nn.Conv1d(char_dim, 30, kernel_size=3, padding=1)\n",
    "        self.lstm = nn.LSTM(embedding_matrix.size(1) + 30, hidden_dim // 2, bidirectional=True, batch_first=True)\n",
    "        self.fc = nn.Linear(hidden_dim, tagset_size)\n",
    "        self.crf = CRF(tagset_size)\n",
    "        self.max_char_len = max_char_len\n",
    "\n",
    "    # this function does forward Pass: Embeddings → LSTM \n",
    "\n",
    "    def forward(self, x_w, x_c, mask):\n",
    "        w_emb = self.word_emb(x_w)\n",
    "        b, l, c = x_c.shape\n",
    "        c_emb = self.char_emb(x_c.view(b*l, c)).permute(0, 2, 1)\n",
    "        c_feat = self.char_cnn(c_emb).max(dim=2)[0].view(b, l, -1)\n",
    "        feats = torch.cat([w_emb, c_feat], dim=2)\n",
    "        lstm_out, _ = self.lstm(feats)\n",
    "        emissions = self.fc(lstm_out)\n",
    "        return emissions\n",
    "    \n",
    "    # log-likelihood for CRF layer function \n",
    "    def loss(self, x_w, x_c, y, mask):\n",
    "        emissions = self.forward(x_w, x_c, mask)\n",
    "        return -self.crf(emissions, y, mask=mask).mean()  \n",
    "    \n",
    "    # CRF Viterbi Decoding\n",
    "\n",
    "    def predict(self, x_w, x_c, mask):\n",
    "        emissions = self.forward(x_w, x_c, mask)\n",
    "        \n",
    "        # masking boolean format for emmissions\n",
    "        if mask.dtype != torch.bool:\n",
    "            mask = mask.bool()\n",
    "        # returning the prediction of best tag sequence using CRF decoding\n",
    "        return self.crf.viterbi_decode(emissions, mask)"
   ]
  },
  {
   "cell_type": "markdown",
   "id": "99962b47",
   "metadata": {},
   "source": [
    "### Training for BiLSTM + CRF Model"
   ]
  },
  {
   "cell_type": "code",
   "execution_count": 34,
   "id": "7f7b91f9",
   "metadata": {},
   "outputs": [],
   "source": [
    "def train(model, loader, optimizer, epochs=5):\n",
    "    for e in range(epochs):\n",
    "        model.train()\n",
    "        total_loss = 0\n",
    "        for x, y, c, p in tqdm(loader):  \n",
    "            mask = x != word2idx[\"<PAD>\"]\n",
    "            loss = model.loss(x, c, y, mask)\n",
    "            optimizer.zero_grad()\n",
    "            loss.backward()\n",
    "            optimizer.step()\n",
    "            total_loss += loss.item()\n",
    "        print(f\"Epoch {e+1} Loss: {total_loss:.4f}\")"
   ]
  },
  {
   "cell_type": "markdown",
   "id": "b4f2621c",
   "metadata": {},
   "source": [
    "### Evaluation Function using Seqeval"
   ]
  },
  {
   "cell_type": "code",
   "execution_count": 35,
   "id": "e731db70",
   "metadata": {},
   "outputs": [],
   "source": [
    "from seqeval.metrics import classification_report, accuracy_score\n",
    "def evaluate(model, loader):\n",
    "    model.eval()\n",
    "    y_true, y_pred = [], []\n",
    "    with torch.no_grad():\n",
    "        for x, y, c, p in loader:  \n",
    "            mask = x != word2idx[\"<PAD>\"]\n",
    "            preds = model.predict(x, c, mask)\n",
    "            for i in range(len(x)):\n",
    "                true = [idx2tag[t.item()] for t, m in zip(y[i], mask[i]) if m]\n",
    "                pred = [idx2tag[t] for t in preds[i]]\n",
    "                y_true.append(true)\n",
    "                y_pred.append(pred)\n",
    "\n",
    "    print(\"Classification Report BiLSTM + CRF:\")            \n",
    "    print(classification_report(y_true, y_pred))\n",
    "    acc = accuracy_score(y_true, y_pred)\n",
    "    print(f\"\\nToken-level Accuracy: {acc:.4f}\")"
   ]
  },
  {
   "cell_type": "markdown",
   "id": "d448e119",
   "metadata": {},
   "source": [
    "### Executing the BiLSTM + CRF model "
   ]
  },
  {
   "cell_type": "code",
   "execution_count": 36,
   "id": "fb2c2be4",
   "metadata": {},
   "outputs": [
    {
     "name": "stderr",
     "output_type": "stream",
     "text": [
      "100%|██████████| 199/199 [00:17<00:00, 11.65it/s]\n"
     ]
    },
    {
     "name": "stdout",
     "output_type": "stream",
     "text": [
      "Epoch 1 Loss: 1531.3741\n"
     ]
    },
    {
     "name": "stderr",
     "output_type": "stream",
     "text": [
      "100%|██████████| 199/199 [00:17<00:00, 11.09it/s]\n"
     ]
    },
    {
     "name": "stdout",
     "output_type": "stream",
     "text": [
      "Epoch 2 Loss: 837.2660\n"
     ]
    },
    {
     "name": "stderr",
     "output_type": "stream",
     "text": [
      "100%|██████████| 199/199 [00:19<00:00, 10.30it/s]\n"
     ]
    },
    {
     "name": "stdout",
     "output_type": "stream",
     "text": [
      "Epoch 3 Loss: 614.4080\n"
     ]
    },
    {
     "name": "stderr",
     "output_type": "stream",
     "text": [
      "100%|██████████| 199/199 [00:22<00:00,  8.74it/s]\n"
     ]
    },
    {
     "name": "stdout",
     "output_type": "stream",
     "text": [
      "Epoch 4 Loss: 492.2237\n"
     ]
    },
    {
     "name": "stderr",
     "output_type": "stream",
     "text": [
      "100%|██████████| 199/199 [00:23<00:00,  8.55it/s]\n"
     ]
    },
    {
     "name": "stdout",
     "output_type": "stream",
     "text": [
      "Epoch 5 Loss: 414.6241\n",
      "Classification Report BiLSTM + CRF:\n",
      "              precision    recall  f1-score   support\n",
      "\n",
      "         LOC       0.68      0.36      0.47       636\n",
      "         ORG       0.50      0.23      0.32      1090\n",
      "         PER       0.75      0.87      0.81      2650\n",
      "\n",
      "   micro avg       0.71      0.64      0.67      4376\n",
      "   macro avg       0.64      0.49      0.53      4376\n",
      "weighted avg       0.68      0.64      0.64      4376\n",
      "\n",
      "\n",
      "Token-level Accuracy: 0.9371\n"
     ]
    }
   ],
   "source": [
    "model = BiLSTM_CRF_Model(len(word2idx), len(char2idx), len(tag2idx), embedding_matrix)\n",
    "optimizer = torch.optim.Adam(model.parameters(), lr=0.001)\n",
    "train(model, train_loader, optimizer, epochs=5)\n",
    "evaluate(model, test_loader)"
   ]
  },
  {
   "cell_type": "code",
   "execution_count": null,
   "id": "f2a35d8b",
   "metadata": {},
   "outputs": [
    {
     "name": "stdout",
     "output_type": "stream",
     "text": [
      "Example Entity Span (BIO):\n",
      "Complete     -> O\n",
      "Tosca        -> O\n",
      "on           -> O\n",
      "the          -> O\n",
      "tube         -> O\n",
      "http://t.co/O90deSLB -> O\n"
     ]
    }
   ],
   "source": [
    "# entiy span in this model\n",
    "example_index = 3\n",
    "tokens = train_tokens[example_index]\n",
    "tags = train_labels[example_index]\n",
    "\n",
    "print(\"Example Entity Span (BIO):\")\n",
    "for token, tag in zip(tokens, tags):\n",
    "    print(f\"{token:<12} -> {tag}\")"
   ]
  },
  {
   "cell_type": "code",
   "execution_count": 38,
   "id": "9c125a04",
   "metadata": {},
   "outputs": [],
   "source": [
    "#predictions and ground truths from BiLSTM+CRF\n",
    "y_true, y_pred = [], []\n",
    "\n",
    "model.eval()\n",
    "with torch.no_grad():\n",
    "    for x, y, c, p in test_loader:\n",
    "        mask = x != word2idx[\"<PAD>\"]\n",
    "        preds = model.predict(x, c, mask)\n",
    "        for i in range(len(x)):\n",
    "            true = [idx2tag[t.item()] for t, m in zip(y[i], mask[i]) if m]\n",
    "            pred = [idx2tag[t] for t in preds[i]]\n",
    "            y_true.append(true)\n",
    "            y_pred.append(pred)"
   ]
  },
  {
   "cell_type": "code",
   "execution_count": 39,
   "id": "146e8bcd",
   "metadata": {},
   "outputs": [
    {
     "name": "stdout",
     "output_type": "stream",
     "text": [
      "BiLSTM + CRF Evaluation Table:\n"
     ]
    },
    {
     "data": {
      "text/html": [
       "<div>\n",
       "<style scoped>\n",
       "    .dataframe tbody tr th:only-of-type {\n",
       "        vertical-align: middle;\n",
       "    }\n",
       "\n",
       "    .dataframe tbody tr th {\n",
       "        vertical-align: top;\n",
       "    }\n",
       "\n",
       "    .dataframe thead th {\n",
       "        text-align: right;\n",
       "    }\n",
       "</style>\n",
       "<table border=\"1\" class=\"dataframe\">\n",
       "  <thead>\n",
       "    <tr style=\"text-align: right;\">\n",
       "      <th></th>\n",
       "      <th>precision</th>\n",
       "      <th>recall</th>\n",
       "      <th>f1-score</th>\n",
       "    </tr>\n",
       "  </thead>\n",
       "  <tbody>\n",
       "    <tr>\n",
       "      <th>LOC</th>\n",
       "      <td>0.684524</td>\n",
       "      <td>0.361635</td>\n",
       "      <td>0.473251</td>\n",
       "    </tr>\n",
       "    <tr>\n",
       "      <th>ORG</th>\n",
       "      <td>0.498054</td>\n",
       "      <td>0.234862</td>\n",
       "      <td>0.319202</td>\n",
       "    </tr>\n",
       "    <tr>\n",
       "      <th>PER</th>\n",
       "      <td>0.751460</td>\n",
       "      <td>0.873962</td>\n",
       "      <td>0.808095</td>\n",
       "    </tr>\n",
       "  </tbody>\n",
       "</table>\n",
       "</div>"
      ],
      "text/plain": [
       "     precision    recall  f1-score\n",
       "LOC   0.684524  0.361635  0.473251\n",
       "ORG   0.498054  0.234862  0.319202\n",
       "PER   0.751460  0.873962  0.808095"
      ]
     },
     "metadata": {},
     "output_type": "display_data"
    }
   ],
   "source": [
    "from seqeval.metrics import classification_report\n",
    "from seqeval.metrics import classification_report as seqeval_report\n",
    "import pandas as pd\n",
    "\n",
    "# classification report for this model\n",
    "bilstm_report_dict = classification_report(y_true, y_pred, output_dict=True)\n",
    "bilstm_results_df = pd.DataFrame(bilstm_report_dict).T\n",
    "bilstm_results_df = bilstm_results_df[['precision', 'recall', 'f1-score']]\n",
    "bilstm_results_df.drop(index=['micro avg', 'macro avg', 'weighted avg'], errors='ignore', inplace=True)\n",
    "\n",
    "print(\"BiLSTM + CRF Evaluation Table:\")\n",
    "display(bilstm_results_df)\n"
   ]
  },
  {
   "cell_type": "code",
   "execution_count": null,
   "id": "3ad0c8b0",
   "metadata": {},
   "outputs": [
    {
     "name": "stdout",
     "output_type": "stream",
     "text": [
      "Example of BiLSTM+CRF Misclassification:\n",
      "\n",
      "Tokens       : ['This', 'morning', 'I', 'met', 'with', 'Senators', 'Inabo', 'and', 'Senior', 'from', 'Palau', 'to', 'discuss', 'my', 'role', 'as', 'Chair', 'of', 'the', 'Public', 'Works', '.', '.', '.', 'http://t.co/McYNwpzHmt']\n",
      "True Labels  : ['O', 'O', 'O', 'O', 'O', 'O', 'B-PER', 'O', 'B-PER', 'O', 'B-LOC', 'O', 'O', 'O', 'O', 'O', 'O', 'O', 'O', 'O', 'O', 'O', 'O', 'O', 'O']\n",
      "Pred Labels  : ['O', 'O', 'O', 'O', 'O', 'O', 'O', 'O', 'O', 'O', 'B-LOC', 'O', 'O', 'O', 'O', 'O', 'O', 'O', 'O', 'O', 'O', 'O', 'O', 'O', 'O']\n"
     ]
    }
   ],
   "source": [
    "print(\"Example of BiLSTM+CRF Misclassification:\")\n",
    "for i in range(len(y_true)):\n",
    "    if y_true[i] != y_pred[i]:\n",
    "        print(f\"\\nTokens       : {test_tokens[i]}\")\n",
    "        print(f\"True Labels  : {y_true[i]}\")\n",
    "        print(f\"Pred Labels  : {y_pred[i]}\")\n",
    "        break"
   ]
  },
  {
   "cell_type": "markdown",
   "id": "558f15e9",
   "metadata": {},
   "source": [
    "## TinyBERT"
   ]
  },
  {
   "cell_type": "code",
   "execution_count": 41,
   "id": "d69789bb",
   "metadata": {},
   "outputs": [
    {
     "name": "stderr",
     "output_type": "stream",
     "text": [
      "DEPRECATION: Loading egg at c:\\users\\pc\\anaconda3\\envs\\text_analytics\\lib\\site-packages\\huggingface_hub-0.29.1-py3.8.egg is deprecated. pip 25.1 will enforce this behaviour change. A possible replacement is to use pip for package installation. Discussion can be found at https://github.com/pypa/pip/issues/12330\n"
     ]
    }
   ],
   "source": [
    "!pip install -q transformers datasets seqeval torch accelerate\n",
    "# installing the nexesary packages for the TinyBERT model for the NER "
   ]
  },
  {
   "cell_type": "code",
   "execution_count": 43,
   "id": "e223963d",
   "metadata": {},
   "outputs": [
    {
     "data": {
      "application/vnd.jupyter.widget-view+json": {
       "model_id": "abad8a2e18ff4af7a3d38679025beb9b",
       "version_major": 2,
       "version_minor": 0
      },
      "text/plain": [
       "Map:   0%|          | 0/2000 [00:00<?, ? examples/s]"
      ]
     },
     "metadata": {},
     "output_type": "display_data"
    },
    {
     "name": "stderr",
     "output_type": "stream",
     "text": [
      "Asking to truncate to max_length but no maximum length is provided and the model has no predefined maximum length. Default to no truncation.\n",
      "Some weights of BertForTokenClassification were not initialized from the model checkpoint at prajjwal1/bert-tiny and are newly initialized: ['classifier.bias', 'classifier.weight']\n",
      "You should probably TRAIN this model on a down-stream task to be able to use it for predictions and inference.\n"
     ]
    }
   ],
   "source": [
    "import torch\n",
    "from datasets import load_dataset\n",
    "from transformers import AutoTokenizer, AutoModelForTokenClassification, DataCollatorForTokenClassification, TrainingArguments, Trainer\n",
    "from seqeval.metrics import classification_report\n",
    "import numpy as np\n",
    "\n",
    "# once again loading the dataset for the TinyBERT model\n",
    "btc = load_dataset(\"tner/btc\")\n",
    "label_list = btc[\"train\"].features[\"tags\"].feature.names\n",
    "id2label = {i: label for i, label in enumerate(label_list)}\n",
    "label2id = {label: i for i, label in enumerate(label_list)}\n",
    "num_labels = len(label_list)\n",
    "\n",
    "# tokenizer for Tiny BERT\n",
    "tokenizer = AutoTokenizer.from_pretrained(\"prajjwal1/bert-tiny\")\n",
    "def tokenize_and_align_labels(examples):\n",
    "    tokenized_inputs = tokenizer(examples[\"tokens\"], truncation=True, is_split_into_words=True)\n",
    "    labels = []\n",
    "    for i, label in enumerate(examples[\"tags\"]):\n",
    "        word_ids = tokenized_inputs.word_ids(batch_index=i)\n",
    "        aligned_labels = []\n",
    "        prev_word_id = None\n",
    "        for word_id in word_ids:\n",
    "            if word_id is None:\n",
    "                aligned_labels.append(-100)\n",
    "            elif word_id != prev_word_id:\n",
    "                aligned_labels.append(label[word_id])\n",
    "            else:\n",
    "                aligned_labels.append(-100)\n",
    "            prev_word_id = word_id\n",
    "        labels.append(aligned_labels)\n",
    "    tokenized_inputs[\"labels\"] = labels\n",
    "    return tokenized_inputs\n",
    "\n",
    "# the tokenized data\n",
    "tokenized_datasets = btc.map(tokenize_and_align_labels, batched=True)\n",
    "data_collator = DataCollatorForTokenClassification(tokenizer)\n",
    "\n",
    "# Loading the \"prajjwal1/bert-tiny\" tinybert for modelling\n",
    "model = AutoModelForTokenClassification.from_pretrained(\n",
    "    \"prajjwal1/bert-tiny\", \n",
    "    num_labels=num_labels, \n",
    "    id2label=id2label, \n",
    "    label2id=label2id\n",
    ")\n"
   ]
  },
  {
   "cell_type": "code",
   "execution_count": 44,
   "id": "7c8effa0",
   "metadata": {},
   "outputs": [],
   "source": [
    "from seqeval.metrics import classification_report\n",
    "# here we are defining the computing the metrixs for the classification report for the TinyBERT model\n",
    "def compute_metrics(p):\n",
    "    predictions, labels = p\n",
    "    predictions = np.argmax(predictions, axis=2)\n",
    "    true_predictions = [\n",
    "        [label_list[p] for (p, l) in zip(prediction, label) if l != -100]\n",
    "        for prediction, label in zip(predictions, labels)\n",
    "    ]\n",
    "    true_labels = [\n",
    "        [label_list[l] for (p, l) in zip(prediction, label) if l != -100]\n",
    "        for prediction, label in zip(predictions, labels)\n",
    "    ]\n",
    "    print(\"Classification Report for TinyBERT:\")\n",
    "    print(classification_report(true_labels, true_predictions))\n",
    "    return {\n",
    "        \"precision\": classification_report(true_labels, true_predictions, output_dict=True)[\"weighted avg\"][\"precision\"],\n",
    "        \"recall\": classification_report(true_labels, true_predictions, output_dict=True)[\"weighted avg\"][\"recall\"],\n",
    "        \"f1\": classification_report(true_labels, true_predictions, output_dict=True)[\"weighted avg\"][\"f1-score\"],\n",
    "    }"
   ]
  },
  {
   "cell_type": "code",
   "execution_count": 46,
   "id": "093b34bc",
   "metadata": {},
   "outputs": [
    {
     "name": "stderr",
     "output_type": "stream",
     "text": [
      "C:\\Users\\pc\\AppData\\Local\\Temp\\ipykernel_35952\\3837342338.py:16: FutureWarning: `tokenizer` is deprecated and will be removed in version 5.0.0 for `Trainer.__init__`. Use `processing_class` instead.\n",
      "  trainer = Trainer(\n"
     ]
    },
    {
     "data": {
      "text/html": [
       "\n",
       "    <div>\n",
       "      \n",
       "      <progress value='3965' max='3965' style='width:300px; height:20px; vertical-align: middle;'></progress>\n",
       "      [3965/3965 03:52, Epoch 5/5]\n",
       "    </div>\n",
       "    <table border=\"1\" class=\"dataframe\">\n",
       "  <thead>\n",
       " <tr style=\"text-align: left;\">\n",
       "      <th>Epoch</th>\n",
       "      <th>Training Loss</th>\n",
       "      <th>Validation Loss</th>\n",
       "      <th>Precision</th>\n",
       "      <th>Recall</th>\n",
       "      <th>F1</th>\n",
       "    </tr>\n",
       "  </thead>\n",
       "  <tbody>\n",
       "    <tr>\n",
       "      <td>1</td>\n",
       "      <td>0.386100</td>\n",
       "      <td>0.309184</td>\n",
       "      <td>0.511844</td>\n",
       "      <td>0.515607</td>\n",
       "      <td>0.501930</td>\n",
       "    </tr>\n",
       "    <tr>\n",
       "      <td>2</td>\n",
       "      <td>0.339200</td>\n",
       "      <td>0.273120</td>\n",
       "      <td>0.623220</td>\n",
       "      <td>0.531792</td>\n",
       "      <td>0.530990</td>\n",
       "    </tr>\n",
       "    <tr>\n",
       "      <td>3</td>\n",
       "      <td>0.278200</td>\n",
       "      <td>0.248536</td>\n",
       "      <td>0.665381</td>\n",
       "      <td>0.577457</td>\n",
       "      <td>0.560566</td>\n",
       "    </tr>\n",
       "    <tr>\n",
       "      <td>4</td>\n",
       "      <td>0.288100</td>\n",
       "      <td>0.246562</td>\n",
       "      <td>0.637005</td>\n",
       "      <td>0.565318</td>\n",
       "      <td>0.567030</td>\n",
       "    </tr>\n",
       "    <tr>\n",
       "      <td>5</td>\n",
       "      <td>0.202600</td>\n",
       "      <td>0.243664</td>\n",
       "      <td>0.646460</td>\n",
       "      <td>0.571676</td>\n",
       "      <td>0.573592</td>\n",
       "    </tr>\n",
       "  </tbody>\n",
       "</table><p>"
      ],
      "text/plain": [
       "<IPython.core.display.HTML object>"
      ]
     },
     "metadata": {},
     "output_type": "display_data"
    },
    {
     "name": "stdout",
     "output_type": "stream",
     "text": [
      "Classification Report for TinyBERT:\n"
     ]
    },
    {
     "name": "stderr",
     "output_type": "stream",
     "text": [
      "c:\\Users\\pc\\anaconda3\\envs\\text_analytics\\Lib\\site-packages\\seqeval\\metrics\\v1.py:57: UndefinedMetricWarning: Precision and F-score are ill-defined and being set to 0.0 in labels with no predicted samples. Use `zero_division` parameter to control this behavior.\n",
      "  _warn_prf(average, modifier, msg_start, len(result))\n"
     ]
    },
    {
     "name": "stdout",
     "output_type": "stream",
     "text": [
      "              precision    recall  f1-score   support\n",
      "\n",
      "         LOC       0.47      0.10      0.16       156\n",
      "         ORG       0.00      0.00      0.00       380\n",
      "         PER       0.68      0.73      0.71      1194\n",
      "\n",
      "   micro avg       0.68      0.52      0.58      1730\n",
      "   macro avg       0.38      0.28      0.29      1730\n",
      "weighted avg       0.51      0.52      0.50      1730\n",
      "\n",
      "Classification Report for TinyBERT:\n",
      "              precision    recall  f1-score   support\n",
      "\n",
      "         LOC       0.48      0.23      0.31       156\n",
      "         ORG       0.44      0.02      0.04       380\n",
      "         PER       0.70      0.73      0.72      1194\n",
      "\n",
      "   micro avg       0.69      0.53      0.60      1730\n",
      "   macro avg       0.54      0.33      0.35      1730\n",
      "weighted avg       0.62      0.53      0.53      1730\n",
      "\n",
      "Classification Report for TinyBERT:\n",
      "              precision    recall  f1-score   support\n",
      "\n",
      "         LOC       0.47      0.27      0.34       156\n",
      "         ORG       0.62      0.04      0.07       380\n",
      "         PER       0.70      0.79      0.74      1194\n",
      "\n",
      "   micro avg       0.69      0.58      0.63      1730\n",
      "   macro avg       0.60      0.37      0.39      1730\n",
      "weighted avg       0.67      0.58      0.56      1730\n",
      "\n",
      "Classification Report for TinyBERT:\n",
      "              precision    recall  f1-score   support\n",
      "\n",
      "         LOC       0.46      0.27      0.34       156\n",
      "         ORG       0.37      0.03      0.05       380\n",
      "         PER       0.75      0.77      0.76      1194\n",
      "\n",
      "   micro avg       0.72      0.57      0.63      1730\n",
      "   macro avg       0.52      0.36      0.38      1730\n",
      "weighted avg       0.64      0.57      0.57      1730\n",
      "\n",
      "Classification Report for TinyBERT:\n",
      "              precision    recall  f1-score   support\n",
      "\n",
      "         LOC       0.46      0.27      0.34       156\n",
      "         ORG       0.41      0.04      0.07       380\n",
      "         PER       0.75      0.78      0.76      1194\n",
      "\n",
      "   micro avg       0.72      0.57      0.64      1730\n",
      "   macro avg       0.54      0.36      0.39      1730\n",
      "weighted avg       0.65      0.57      0.57      1730\n",
      "\n"
     ]
    },
    {
     "data": {
      "text/plain": [
       "TrainOutput(global_step=3965, training_loss=0.3112707640153613, metrics={'train_runtime': 232.8124, 'train_samples_per_second': 136.118, 'train_steps_per_second': 17.031, 'total_flos': 3565420121496.0, 'train_loss': 0.3112707640153613, 'epoch': 5.0})"
      ]
     },
     "execution_count": 46,
     "metadata": {},
     "output_type": "execute_result"
    }
   ],
   "source": [
    "# Training the TinyBERT Model using 5 epochs \n",
    "args = TrainingArguments(\n",
    "    output_dir=\"tinybert-btc-ner\",\n",
    "    evaluation_strategy=\"epoch\",\n",
    "    learning_rate=2e-5,\n",
    "    per_device_train_batch_size=8,\n",
    "    per_device_eval_batch_size=16,\n",
    "    num_train_epochs=5,\n",
    "    weight_decay=0.01,\n",
    "    save_strategy=\"epoch\",\n",
    "    logging_dir=\"./logs\",\n",
    "    logging_steps=20,\n",
    "    load_best_model_at_end=True,\n",
    "    report_to=\"none\"\n",
    ")\n",
    "trainer = Trainer(\n",
    "    model=model,\n",
    "    args=args,\n",
    "    train_dataset = tokenized_datasets[\"train\"], \n",
    "    eval_dataset=tokenized_datasets[\"validation\"],\n",
    "    tokenizer=tokenizer,\n",
    "    data_collator=data_collator,\n",
    "    compute_metrics=compute_metrics\n",
    ")\n",
    "trainer.train()"
   ]
  },
  {
   "cell_type": "code",
   "execution_count": 47,
   "id": "27870722",
   "metadata": {},
   "outputs": [
    {
     "name": "stdout",
     "output_type": "stream",
     "text": [
      "Classification Report TinyBERT:\n",
      "              precision    recall  f1-score   support\n",
      "\n",
      "         LOC      0.755     0.363     0.490       636\n",
      "         ORG      0.633     0.236     0.344      1090\n",
      "         PER      0.776     0.876     0.823      2650\n",
      "\n",
      "   micro avg      0.759     0.642     0.696      4376\n",
      "   macro avg      0.721     0.492     0.552      4376\n",
      "weighted avg      0.738     0.642     0.655      4376\n",
      "\n"
     ]
    }
   ],
   "source": [
    "# here we are defining the computing the metrixs for the classification report for the TinyBERT model\n",
    "# Filtering out 'O' taht is the other entities labels from both y_true and y_pred\n",
    "def filter_out_O(y_true, y_pred):\n",
    "    new_y_true, new_y_pred = [], []\n",
    "    for t_seq, p_seq in zip(y_true, y_pred):\n",
    "        filtered_t, filtered_p = [], []\n",
    "        for t, p in zip(t_seq, p_seq):\n",
    "            if t != 'O':\n",
    "                filtered_t.append(t)\n",
    "                filtered_p.append(p)\n",
    "        if filtered_t:  # ensure we don't add empty rows\n",
    "            new_y_true.append(filtered_t)\n",
    "            new_y_pred.append(filtered_p)\n",
    "    return new_y_true, new_y_pred\n",
    "filtered_true, filtered_pred = filter_out_O(y_true, y_pred)\n",
    "\n",
    "# Run evaluation without 'O'\n",
    "print(\"Classification Report TinyBERT:\")\n",
    "print(classification_report(filtered_true, filtered_pred, digits=3))"
   ]
  },
  {
   "cell_type": "code",
   "execution_count": 48,
   "id": "b33cee49",
   "metadata": {},
   "outputs": [
    {
     "name": "stdout",
     "output_type": "stream",
     "text": [
      "Complete     -> O\n",
      "Tosca        -> O\n",
      "on           -> O\n",
      "the          -> O\n",
      "tube         -> O\n",
      "http://t.co/O90deSLB -> O\n"
     ]
    }
   ],
   "source": [
    "# example of the entity spans for this model\n",
    "example_index = 3\n",
    "tokens = btc['train']['tokens'][example_index]\n",
    "labels = btc['train']['tags'][example_index]\n",
    "bio_tags = [label_list[t] for t in labels]\n",
    "for token, tag in zip(tokens, bio_tags):\n",
    "    print(f\"{token:<12} -> {tag}\")"
   ]
  },
  {
   "cell_type": "code",
   "execution_count": 49,
   "id": "978b8dac",
   "metadata": {},
   "outputs": [
    {
     "name": "stdout",
     "output_type": "stream",
     "text": [
      "Example of Tiny BERT Misclassification:\n",
      "\n",
      "Tokens       : ['This', 'morning', 'I', 'met', 'with', 'Senators', 'Inabo', 'and', 'Senior', 'from', 'Palau', 'to', 'discuss', 'my', 'role', 'as', 'Chair', 'of', 'the', 'Public', 'Works', '.', '.', '.', 'http://t.co/McYNwpzHmt']\n",
      "True Labels  : ['B-PER', 'B-PER', 'B-LOC']\n",
      "Pred Labels  : ['O', 'O', 'B-LOC']\n"
     ]
    }
   ],
   "source": [
    "print(\"Example of Tiny BERT Misclassification:\")\n",
    "for i in range(len(filtered_true)):\n",
    "    if filtered_true[i] != filtered_pred[i]:\n",
    "        print(f\"\\nTokens       : {btc['test']['tokens'][i]}\")\n",
    "        print(f\"True Labels  : {filtered_true[i]}\")\n",
    "        print(f\"Pred Labels  : {filtered_pred[i]}\")\n",
    "        break\n"
   ]
  },
  {
   "cell_type": "code",
   "execution_count": 51,
   "id": "83709dc3",
   "metadata": {},
   "outputs": [
    {
     "data": {
      "image/png": "[encoded data removed]",
      "text/plain": [
       "<Figure size 1000x600 with 1 Axes>"
      ]
     },
     "metadata": {},
     "output_type": "display_data"
    }
   ],
   "source": [
    "import matplotlib.pyplot as plt\n",
    "import pandas as pd\n",
    "\n",
    "# F1 scores for each model per entity\n",
    "data = {\n",
    "    \"Entity\": [\"LOC\", \"ORG\", \"PER\"],\n",
    "    \"CRF\": [0.527, 0.375, 0.812],\n",
    "    \"BiLSTM+CRF\": [0.44, 0.35, 0.82],\n",
    "    \"Tiny BERT\": [0.461, 0.383, 0.827]\n",
    "}\n",
    "df = pd.DataFrame(data)\n",
    "\n",
    "bar_width = 0.25\n",
    "x = range(len(df[\"Entity\"]))\n",
    "\n",
    "# plotiing a bar chart for all the models with the F1 Scores as the performance metrics\n",
    "plt.figure(figsize=(10, 6))\n",
    "plt.bar([p - bar_width for p in x], df[\"CRF\"], width=bar_width, label=\"CRF\", color='#C8A2C8') \n",
    "plt.bar(x, df[\"BiLSTM+CRF\"], width=bar_width, label=\"BiLSTM+CRF\", color='#FFC0CB') \n",
    "plt.bar([p + bar_width for p in x], df[\"Tiny BERT\"], width=bar_width, label=\"Tiny BERT\", color='#87CEEB')\n",
    "\n",
    "# Add labels and formatting\n",
    "plt.xlabel(\"Entity Type\")\n",
    "plt.ylabel(\"F1 Score\")\n",
    "plt.title(\"Model Comparison on F1-score (Excluding 'O')\")\n",
    "plt.xticks(ticks=x, labels=df[\"Entity\"])\n",
    "plt.ylim(0, 1)\n",
    "plt.legend()\n",
    "plt.grid(axis='y', linestyle='--', alpha=0.7)\n",
    "plt.tight_layout()\n",
    "plt.show()"
   ]
  }
 ],
 "metadata": {
  "kernelspec": {
   "display_name": "text_analytics",
   "language": "python",
   "name": "python3"
  },
  "language_info": {
   "codemirror_mode": {
    "name": "ipython",
    "version": 3
   },
   "file_extension": ".py",
   "mimetype": "text/x-python",
   "name": "python",
   "nbconvert_exporter": "python",
   "pygments_lexer": "ipython3",
   "version": "3.11.11"
  }
 },
 "nbformat": 4,
 "nbformat_minor": 5
}
