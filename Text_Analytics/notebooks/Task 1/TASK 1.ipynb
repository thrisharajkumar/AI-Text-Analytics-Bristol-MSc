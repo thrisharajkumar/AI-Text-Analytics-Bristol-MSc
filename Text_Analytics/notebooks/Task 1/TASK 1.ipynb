{
 "cells": [
  {
   "cell_type": "markdown",
   "id": "794243c0",
   "metadata": {},
   "source": [
    "# Text Analytics Coursework -- Tasks 1.1 to 1.3\n",
    "\n",
    "# Instructions:\n",
    "\n",
    "This notebook is forms the first part of your coursework assignment for Text Analytics in Spring 2025. You will need to read the instructions below and complete numbered tasks indicated by \"TASK n\". To complete the tasks, you will write code or explanations between the comments \"#WRITE YOUR ANSWER HERE\" and \"#END OF ANSWER\". For example:\n",
    "\n",
    "TASK 0: Complete the function below to output \"hello world\". \n"
   ]
  },
  {
   "cell_type": "code",
   "execution_count": 13,
   "id": "5486ee90",
   "metadata": {},
   "outputs": [
    {
     "name": "stdout",
     "output_type": "stream",
     "text": [
      "hello world\n"
     ]
    }
   ],
   "source": [
    "def demo_fun():\n",
    "    # WRITE YOUR ANSWER HERE\n",
    "    print(\"hello world\")\n",
    "    # END OF ANSWER\n",
    "\n",
    "### DO NOT MODIFY\n",
    "demo_fun()\n",
    "###"
   ]
  },
  {
   "cell_type": "markdown",
   "id": "a422f8fe",
   "metadata": {},
   "source": [
    "There is also some code in the cell that should not be modified. This code saves your results to file in the correct format, which is necessary for us to be able to mark your answers. Before you submit your notebook, please make sure this code has not been modified, then restart your kernel, clear all cell outputs, run all of your code once again, then save the notebook. \n",
    "\n",
    "Please note:\n",
    "  * The notebook you upload must include all the saved cell output after running all cells.\n",
    "  * The notebook code must be complete so that it reproduces all your output when we run it. \n",
    "  * For this coursework, we recommend that you use your virtual environment that you created for the labs. The packages you need are: numpy, scipy, nltk, pytorch, transformers and datasets (from HuggingFace), pandas, matplotlib and scikit-learn. \n",
    "\n",
    "## Marking guidelines:\n",
    "1. This notebook is worth 32% of the marks for the Text Analytics assignment.\n",
    "1. The number of marks for each task is shown alongside the task.\n",
    "1. We will evaluate the output of your code after running it, and marks will be awarded based on how well the output matches the task's instructions. \n",
    "1. We will give partial marks for incomplete or partially correct answers. \n",
    "1. We do not give additional marks for code style or comments, but clear code will help us to understand what you have done so that we can award partial marks where necessary. \n",
    "1. Unless the task asks you to implement something from scratch, there is no penalty for using software libraries in your implementation.\n",
    "\n",
    "## Support:\n",
    "\n",
    "The main source of support will be during the lab sessions. The TAs and lecturers will help you with questions about the lectures, the code provided for you in this notebook, and general questions about the topics we cover. For the assessed tasks, they can only answer clarifying questions about what you have to do. Please email Edwin if you have any other queries edwin.simpson@bristol.ac.uk and/or post your query to the Teams channel for this unit.\n",
    "\n",
    "## Deadline:\n",
    "\n",
    "The notebook must be submitted along with the second notebook on Blackboard before **Monday 28th April at 13.00**. \n",
    "\n",
    "## Submission:\n",
    "\n",
    "For this part of the assignment, please zip up the folder containing this file and the 'outputs' directory, containing the output from this notebook as .csv files. Please name your notebook file like this:\n",
    "   * Name this notebook 'text_analytics_part1_\\<student number\\>.ipynb'. Replace '\\<student number\\>' with your student number, which consists only of digits beginning with '2'. \n",
    "   * We mark anonymously, so please don't include your name in the notebook.\n",
    "\n",
    "You can submit the file on Blackboard to the submission point \"Text Analytics Part 1 Notebook\". Remember that the assignment also has parts 2 and 3, described in the PDF file on Blackboard."
   ]
  },
  {
   "cell_type": "markdown",
   "id": "54ff04e2",
   "metadata": {},
   "source": [
    "# Setup: random seeds\n",
    "\n",
    "Each student will work with slightly different data splits and model weights, which will be determined by setting your 'random seed'. \n",
    "We will check that your results come from using your random seed. Please set the seed in the cell below by changing the value of 'my_student_number' to your own student number (not your username, the number you can see on eVision that contains only digits). \n",
    "\n",
    "Using the correct seed ensures that your results are reproducible when we rerun your notebook."
   ]
  },
  {
   "cell_type": "code",
   "execution_count": 14,
   "id": "80bd735e",
   "metadata": {},
   "outputs": [],
   "source": [
    "import torch\n",
    "import random\n",
    "import numpy as np\n",
    "\n",
    "def set_seed(seed: int = 42):\n",
    "    random.seed(seed)  # Python's built-in random module\n",
    "    np.random.seed(seed)  # NumPy\n",
    "    torch.manual_seed(seed)  # PyTorch CPU\n",
    "    torch.cuda.manual_seed(seed)  # PyTorch GPU (if available)\n",
    "    torch.cuda.manual_seed_all(seed)  # Multi-GPU\n",
    "    torch.backends.cudnn.deterministic = True  # Ensure deterministic behavior\n",
    "    torch.backends.cudnn.benchmark = False  # Disable benchmark mode for reproducibility\n",
    "\n",
    "### SET YOUR SEED TO YOUR STUDENT NUMBER HERE\n",
    "my_student_number = 2623567\n",
    "set_seed(my_student_number)"
   ]
  },
  {
   "cell_type": "markdown",
   "id": "2877d086",
   "metadata": {},
   "source": [
    "# Setup: loading the data\n",
    "\n",
    "Let's make a folder to save the output of your work:"
   ]
  },
  {
   "cell_type": "code",
   "execution_count": 16,
   "id": "60bd9213",
   "metadata": {},
   "outputs": [],
   "source": [
    "import os\n",
    "import pandas as pd\n",
    "\n",
    "os.mkdir('./outputs')\n",
    "# Output folder is created to save the results generated by the models"
   ]
  },
  {
   "cell_type": "markdown",
   "id": "f79fc2c4",
   "metadata": {},
   "source": [
    "Now, let's load some more packages we will need later:"
   ]
  },
  {
   "cell_type": "code",
   "execution_count": 17,
   "id": "annoying-ethiopia",
   "metadata": {},
   "outputs": [
    {
     "name": "stdout",
     "output_type": "stream",
     "text": [
      "The autoreload extension is already loaded. To reload it, use:\n",
      "  %reload_ext autoreload\n"
     ]
    }
   ],
   "source": [
    "%load_ext autoreload\n",
    "%autoreload 2\n",
    "\n",
    "# Use HuggingFace's datasets library to access the Emotion dataset\n",
    "from datasets import load_dataset\n",
    "import numpy as np\n",
    "from sklearn.model_selection import train_test_split "
   ]
  },
  {
   "cell_type": "markdown",
   "id": "09e90e82-bbdb-4532-91b1-58229d4f1043",
   "metadata": {},
   "source": [
    "\n",
    "The dataset classifies paragraphs taken from corporate disclosures that discuss climate-related issues. It classifiers them into \"risk\" (0), \"neutral\" (1) or \"opportunity\" (2) representing the sentiment of the paragraph.\n",
    "\n",
    "First we need to load the data. The data is already split into train, validation and test. The _validation_ set (also called 'development' set or 'devset') can be used to compute performance of your model when tuning hyperparameters, optimising combinations of features, or looking at the errors your model makes before improving it. This allows you to hold out the test set (i.e., not to look at it at all when developing your method) to give a fair evaluation of the model and how well it generalises to new examples. This avoids tuning the model to specific examples in the test set. An alternative approach to validation is to not use a single fixed validation set, but instead use [cross validation](https://scikit-learn.org/stable/modules/cross_validation.html). "
   ]
  },
  {
   "cell_type": "code",
   "execution_count": 18,
   "id": "efaf1096-acce-4226-a172-5357f49e91c1",
   "metadata": {},
   "outputs": [
    {
     "name": "stdout",
     "output_type": "stream",
     "text": [
      "Training dataset with 800 instances loaded\n",
      "Development/validation dataset with 200 instances loaded\n"
     ]
    }
   ],
   "source": [
    "cache_dir = \"./data_cache\"\n",
    "\n",
    "# load the original training set from HuggingFace\n",
    "train_dataset = load_dataset(\n",
    "    \"climatebert/climate_sentiment\",\n",
    "    split=\"train\",\n",
    "    cache_dir=cache_dir,\n",
    ")\n",
    "\n",
    "# we're going to create a new validation set by splitting the data\n",
    "dataset_splits = train_dataset.train_test_split(test_size=0.2)\n",
    "train_dataset = dataset_splits[\"train\"]\n",
    "val_dataset = dataset_splits[\"test\"]\n",
    "\n",
    "train_texts = np.array(train_dataset[\"text\"])\n",
    "val_texts = np.array(val_dataset[\"text\"])\n",
    "\n",
    "train_labels = np.array(train_dataset[\"label\"])\n",
    "val_labels = np.array(val_dataset[\"label\"])\n",
    "\n",
    "print(f\"Training dataset with {len(train_texts)} instances loaded\")\n",
    "print(f\"Development/validation dataset with {len(val_texts)} instances loaded\")\n",
    "\n",
    "### DO NOT MODIFY\n",
    "# save gold labels to file\n",
    "pd.DataFrame(val_labels).to_csv('./outputs/val_labels.csv')"
   ]
  },
  {
   "cell_type": "markdown",
   "id": "38916c42",
   "metadata": {},
   "source": [
    "In this notebook, you're going to build three different classifiers for this dataset, then compare how they work, and analyse the results. We are going to start by implementing a naïve Bayes classifier from scratch. \n",
    "\n",
    "We are going to begin by initialising some useful variables and doing some very simple pre-processing using CountVectorizer."
   ]
  },
  {
   "cell_type": "code",
   "execution_count": 19,
   "id": "5fb3e757",
   "metadata": {},
   "outputs": [
    {
     "name": "stderr",
     "output_type": "stream",
     "text": [
      "c:\\Users\\pc\\anaconda3\\envs\\text_analytics\\Lib\\site-packages\\sklearn\\feature_extraction\\text.py:517: UserWarning: The parameter 'token_pattern' will not be used since 'tokenizer' is not None'\n",
      "  warnings.warn(\n"
     ]
    }
   ],
   "source": [
    "from sklearn.feature_extraction.text import CountVectorizer\n",
    "from nltk import word_tokenize\n",
    "\n",
    "num_classes = 3\n",
    "\n",
    "def preprocess(train_texts):\n",
    "    vectorizer = CountVectorizer(ngram_range=(2,2), tokenizer=word_tokenize)\n",
    "    X = vectorizer.fit_transform(train_texts).toarray()\n",
    "    num_features = X.shape[1]\n",
    "\n",
    "    X_val = vectorizer.transform(val_texts).toarray()\n",
    "\n",
    "    return X, X_val, vectorizer, num_features\n",
    "\n",
    "X, X_val, vectorizer, num_features = preprocess(train_texts)"
   ]
  },
  {
   "cell_type": "markdown",
   "id": "9cb1f7d1",
   "metadata": {},
   "source": [
    "## TASK 1.1a\n",
    "\n",
    "Complete the function below to compute the class priors, $p(y_n = c)$ for each class label $c$, where $y_n$ is the class label of document $n$. Do not use the Sklearn implementation to do this, but implement it yourself, e.g., using Numpy functions. The function must output the class priors as a list or Numpy array containing the probabilities. You do not need to apply any smoothing or regularisation.    (3 marks)"
   ]
  },
  {
   "cell_type": "code",
   "execution_count": 20,
   "id": "79e7da69",
   "metadata": {},
   "outputs": [
    {
     "name": "stdout",
     "output_type": "stream",
     "text": [
      "[0.34375 0.4125  0.24375]\n"
     ]
    }
   ],
   "source": [
    "def compute_class_priors(texts, labels):\n",
    "    priors = np.zeros(num_classes)\n",
    "\n",
    "    ### WRITE YOUR ANSWER HERE\n",
    "    total_docs = len(labels) # total number of documents\n",
    "    for c in range(num_classes):\n",
    "        priors[c] = np.sum(labels == c) / total_docs \n",
    "    # to compute the prior probability of each class risk, opportunity, and neutral\n",
    "    # prior is necessary for the Naiive Bayes Calssifier\n",
    "    ### END OF ANSWER\n",
    "    return priors\n",
    "\n",
    "\n",
    "class_priors = compute_class_priors(train_texts, train_labels)\n",
    "print(class_priors)\n",
    "\n",
    "### DO NOT MODIFY\n",
    "pd.DataFrame(class_priors).to_csv('./outputs/11a_class_priors.csv')"
   ]
  },
  {
   "cell_type": "markdown",
   "id": "3bc8c63e",
   "metadata": {},
   "source": [
    "## TASK 1.1b\n",
    "\n",
    "Complete the function below to extract n-gram features from the text, then compute the liklihood $p(x_{ni} = w | y_n = c)$ that the $i$ th n-gram in document $n$ is $w$, given that the class of $n$ is $c$. Again, do not use the Sklearn implementation to do this, but implement it yourself, e.g., using Numpy functions. The function must output the likelihoods as a 2D Numpy array containing probabilities. You should apply smoothing by adding counts of +1 to the counts of each feature.  (3 marks)"
   ]
  },
  {
   "cell_type": "code",
   "execution_count": 21,
   "id": "91d8722e",
   "metadata": {},
   "outputs": [],
   "source": [
    "def compute_feature_likelihoods(X, labels):\n",
    "\n",
    "    likelihoods = np.ones((num_features, num_classes))  # a 2D numpy array where you can store the likelihoods. Note that all values are initialised to one.\n",
    "\n",
    "    ### WRITE YOUR ANSWER HERE\n",
    "    for c in range(num_classes):\n",
    "        X_c = X[labels == c]\n",
    "        class_feature_counts = np.sum(X_c, axis=0) # frequency of the n-grams\n",
    "        total_words_in_class = np.sum(class_feature_counts) # to get the total number of words in the each class\n",
    "\n",
    "        likelihoods[:, c] = (class_feature_counts + 1) / (total_words_in_class + num_features)\n",
    "        # here laplace smoothing is used by adding 1 to each feature count.\n",
    "    ### END OF ANSWER\n",
    "    return likelihoods\n",
    "\n",
    "likelihoods = compute_feature_likelihoods(X, train_labels)\n",
    "\n",
    "### DO NOT MODIFY\n",
    "pd.DataFrame(likelihoods).to_csv('./outputs/11b_likelihoods.csv')"
   ]
  },
  {
   "cell_type": "markdown",
   "id": "8f6a867a",
   "metadata": {},
   "source": [
    "Now, we are going to use the code in the next cell to compute the log probabilities of each class for each text in the validation set. This code will use the previous functions you implemented, compute_class_priors and compute_feature_likelihoods. The log probabilities will be stored in the 'predictions' array."
   ]
  },
  {
   "cell_type": "code",
   "execution_count": 22,
   "id": "30194a65",
   "metadata": {},
   "outputs": [
    {
     "name": "stdout",
     "output_type": "stream",
     "text": [
      "[[-7.40870454e+00 -1.28701587e-03 -7.29307540e+00]\n",
      " [-5.68434189e-14 -3.04521899e+01 -3.62284680e+01]\n",
      " [-1.74295732e+01 -1.72042416e+01 -6.06936510e-08]\n",
      " [-3.42612126e+00 -9.80529928e-02 -2.79874650e+00]\n",
      " [-3.34870260e-03 -5.76152818e+00 -8.53331164e+00]\n",
      " [-2.85991127e+01 -3.19042966e-01 -1.29771339e+00]\n",
      " [-5.74959531e+01  0.00000000e+00 -4.92457374e+01]\n",
      " [-8.16658944e+01  0.00000000e+00 -6.64471621e+01]\n",
      " [-1.90482297e-10 -2.23815763e+01 -3.10746323e+01]\n",
      " [-2.38633491e+01 -5.54008352e-07 -1.44061646e+01]\n",
      " [-2.16284011e+01 -1.84132887e-09 -2.03608112e+01]\n",
      " [-1.43354365e+01 -6.49032459e-03 -5.04077805e+00]\n",
      " [-7.43855537e-08 -1.64201483e+01 -2.15093053e+01]\n",
      " [-1.66584186e-08 -1.79104599e+01 -2.70387361e+01]\n",
      " [-1.91257556e-01 -1.75139677e+00 -7.50783329e+00]\n",
      " [-1.89453949e+01 -5.91739990e-09 -2.95987332e+01]\n",
      " [-1.27250367e+01 -5.13622428e+00 -5.90019618e-03]\n",
      " [-1.69500941e+01 -5.61516312e-04 -7.48522800e+00]\n",
      " [-1.31367128e+00 -3.18801302e-01 -5.48495529e+00]\n",
      " [-1.24666411e+01 -1.74913472e-02 -4.05500413e+00]\n",
      " [-1.64342975e+01 -7.19859524e+00 -7.47987882e-04]\n",
      " [-1.31884213e+01 -3.47076429e+00 -3.15888446e-02]\n",
      " [-1.99687247e+01 -1.42194478e-02 -4.26024614e+00]\n",
      " [-8.72212111e+00 -1.64021722e-04 -1.37506009e+01]\n",
      " [-1.47687681e+01 -4.00163799e-07 -1.80367475e+01]\n",
      " [-3.46639012e+00 -3.53753039e-02 -5.64720874e+00]\n",
      " [-6.85611954e+00 -1.05356568e-03 -1.77914487e+01]\n",
      " [-3.27030790e+00 -3.96860520e-02 -6.99751698e+00]\n",
      " [ 0.00000000e+00 -3.40556665e+01 -5.90619862e+01]\n",
      " [-7.81662767e+00 -1.31420328e+01 -4.05021426e-04]\n",
      " [-7.60940566e-07 -1.40887114e+01 -2.85770776e+01]\n",
      " [-2.15880555e+01 -2.71746399e+00 -6.83238375e-02]\n",
      " [-7.68275383e+00 -4.41063518e+00 -1.26883219e-02]\n",
      " [-1.32208496e+01 -6.21044345e-01 -7.70859550e-01]\n",
      " [-6.76675427e-09 -1.88133406e+01 -2.49770883e+01]\n",
      " [-4.15410566e+00 -1.61245328e-02 -8.12717112e+00]\n",
      " [-3.02497938e-09 -1.96163693e+01 -3.35293316e+01]\n",
      " [-2.33339286e+01 -5.66417768e-05 -9.77879336e+00]\n",
      " [-7.24549217e+00 -7.13928801e-04 -1.50497695e+01]\n",
      " [-1.43917778e+01 -1.76157317e-06 -1.36335395e+01]\n",
      " [-2.26789334e+00 -1.14771592e-01 -5.31848249e+00]\n",
      " [-3.79909012e+00 -2.57626011e-02 -5.79509514e+00]\n",
      " [-1.12851594e+01 -1.40193420e-05 -1.34361642e+01]\n",
      " [-8.84375495e+00 -1.97066441e+00 -1.50251553e-01]\n",
      " [-8.52019276e+00 -2.32010572e-04 -1.03317299e+01]\n",
      " [-5.00942774e+00 -6.69709758e-03 -2.29057295e+01]\n",
      " [-1.32958181e+01 -3.93110031e-03 -5.54122950e+00]\n",
      " [-8.83260667e+00 -2.43328953e-03 -6.08163697e+00]\n",
      " [-3.68464996e+01  0.00000000e+00 -4.50927277e+01]\n",
      " [-4.14539811e+00 -6.05731549e-01 -8.24423341e-01]\n",
      " [-5.29534577e-06 -1.21486849e+01 -3.01700548e+01]\n",
      " [-8.59686630e+00 -2.35216241e+00 -1.00204764e-01]\n",
      " [-2.88912898e+01 -1.17346376e+01 -8.01149184e-06]\n",
      " [ 0.00000000e+00 -5.58252520e+01 -8.68397986e+01]\n",
      " [-1.01313926e+01 -3.99332608e-05 -1.59153844e+01]\n",
      " [-1.72595967e+01 -3.26535883e-08 -2.10522568e+01]\n",
      " [-1.29245509e+01 -7.33338200e+00 -6.56012782e-04]\n",
      " [-5.78991373e+00 -6.29681812e-02 -2.84785718e+00]\n",
      " [-1.51912128e+01 -3.20960950e-03 -5.74328923e+00]\n",
      " [-9.72648458e-03 -4.65343951e+00 -8.80112158e+00]\n",
      " [-1.30469858e+01 -8.87198578e-01 -5.30705156e-01]\n",
      " [-2.29285519e+00 -1.06447484e-01 -4.19337008e+01]\n",
      " [-3.44222928e+01 -1.36424205e-12 -2.73338401e+01]\n",
      " [-2.98265047e+01 -1.82154893e+01 -1.22777237e-08]\n",
      " [-5.82088819e-06 -1.20910481e+01 -1.53696731e+01]\n",
      " [-4.23425261e+00 -3.18823625e+00 -5.73486314e-02]\n",
      " [-7.24909157e-04 -8.37839450e+00 -7.61121967e+00]\n",
      " [-5.89773208e-09 -1.89630290e+01 -2.32014531e+01]\n",
      " [-2.05143134e+01 -2.62446010e-01 -1.46606464e+00]\n",
      " [-5.30066101e+00 -5.02095244e-03 -1.08161340e+01]\n",
      " [-3.96242152e+01 -8.21046342e-09 -1.86178631e+01]\n",
      " [-1.01488179e+01 -7.39930325e+00 -6.51012966e-04]\n",
      " [-2.27769904e+01 -1.28693500e-10 -2.84527740e+01]\n",
      " [-2.05109646e+01 -8.80662786e+00 -1.49749789e-04]\n",
      " [-1.30187739e+00 -3.17860222e-01 -8.19918988e+00]\n",
      " [-5.90391437e-07 -1.43424804e+01 -3.06572644e+01]\n",
      " [-3.68305811e+01 -3.96721159e+01  0.00000000e+00]\n",
      " [-4.47956254e+01  0.00000000e+00 -3.02718843e+01]\n",
      " [-2.64129612e+01 -6.60733817e+00 -1.35133461e-03]\n",
      " [-2.52350587e+01 -1.34150469e-11 -2.67633669e+01]\n",
      " [-3.30108578e+01 -4.95508327e+00 -7.07244428e-03]\n",
      " [-1.45493773e+01 -9.70938925e+00 -6.11927033e-05]\n",
      " [-3.86422810e+00 -2.12134558e-02 -1.14246289e+01]\n",
      " [-5.44450479e+00 -1.34332191e-02 -4.70793215e+00]\n",
      " [-1.42622446e+01 -1.00889919e-05 -1.15695776e+01]\n",
      " [-2.15060459e-03 -6.14308138e+00 -3.31912050e+01]\n",
      " [-5.67095788e+00 -3.45844735e-03 -1.17474352e+01]\n",
      " [-8.57899182e-02 -2.49844210e+00 -3.07788581e+01]\n",
      " [-3.43518148e+01  0.00000000e+00 -3.28412073e+01]\n",
      " [-8.38197164e+00 -8.37567638e-01 -5.67379813e-01]\n",
      " [-1.41841134e+02 -1.31343286e+02  0.00000000e+00]\n",
      " [-6.87805368e-11 -2.33993714e+01 -5.00469055e+01]\n",
      " [-6.06969753e+00 -3.04596816e-03 -7.22320394e+00]\n",
      " [ 0.00000000e+00 -3.28368053e+01 -3.90025458e+01]\n",
      " [-4.50947088e+01  0.00000000e+00 -4.95566302e+01]\n",
      " [-5.49258075e+01 -4.48009693e+01  0.00000000e+00]\n",
      " [-1.06637236e+01 -3.00669059e+00 -5.07444483e-02]\n",
      " [-3.62422319e+01 -4.01107951e-02 -3.23609814e+00]\n",
      " [-1.11819504e-05 -1.14013009e+01 -2.07665673e+01]\n",
      " [-1.82880041e-06 -1.32118516e+01 -2.79615748e+01]\n",
      " [-2.09619282e-06 -1.30764418e+01 -1.99320730e+01]\n",
      " [-2.08858279e+00 -1.69800208e-01 -3.43256241e+00]\n",
      " [-2.86353564e+01 -8.52651283e-13 -2.83275506e+01]\n",
      " [-4.86284282e-05 -9.95168526e+00 -1.38357361e+01]\n",
      " [-1.30905495e+01 -2.08821200e-06 -1.75637508e+01]\n",
      " [-1.08419522e+00 -4.12752389e-01 -1.73413985e+01]\n",
      " [-5.44559953e-11 -2.44880532e+01 -2.41875666e+01]\n",
      " [-4.53253759e+00 -1.42883727e+00 -2.88136429e-01]\n",
      " [-1.22206556e+01 -4.93470628e-06 -1.87659834e+01]\n",
      " [-6.64533673e-09 -1.88293553e+01 -3.10577158e+01]\n",
      " [-9.14463229e+00 -1.06797533e-04 -2.18116964e+01]\n",
      " [-2.22550454e-04 -8.41088487e+00 -1.61934086e+01]\n",
      " [-2.04365818e+01 -1.28772525e+01 -2.55686115e-06]\n",
      " [-3.41489872e+00 -3.49948876e-02 -6.49570496e+00]\n",
      " [-5.25546638e-02 -3.12806789e+00 -4.90692431e+00]\n",
      " [-1.14900644e+01 -1.02312966e-05 -2.99771515e+01]\n",
      " [-4.92512091e+01  0.00000000e+00 -6.28979963e+01]\n",
      " [-8.81474511e+00 -1.34480206e-02 -4.32682105e+00]\n",
      " [-5.32326982e+00 -5.07586681e-03 -8.58855522e+00]\n",
      " [-1.70791576e+01 -1.90149174e-01 -1.75351512e+00]\n",
      " [-3.85576753e+01 -7.45730144e-03 -4.90228800e+00]\n",
      " [-2.53008360e+01 -1.09707798e-11 -2.79996395e+01]\n",
      " [-2.32702656e+01 -1.29241727e+01 -2.43847086e-06]\n",
      " [-1.90110844e+01 -4.47870373e-05 -1.00137379e+01]\n",
      " [-2.01466765e+00 -1.45637425e-01 -6.13570532e+00]\n",
      " [-9.32714735e-05 -9.29716415e+00 -1.33560253e+01]\n",
      " [-1.19364647e-02 -7.08330208e+00 -4.50745294e+00]\n",
      " [-3.85401026e+00 -2.14783318e-02 -9.81282611e+00]\n",
      " [-2.44303473e-05 -1.06197073e+01 -2.20684965e+01]\n",
      " [-1.10331006e+01 -4.05368573e-05 -1.06218245e+01]\n",
      " [-2.07119233e+01 -1.29445292e+01 -2.39026872e-06]\n",
      " [-7.11872609e+00 -1.22239970e+00 -3.50029007e-01]\n",
      " [-7.62368756e-01 -1.36194573e+00 -1.28273402e+00]\n",
      " [-7.15257413e+00 -7.83401373e-04 -1.52088020e+01]\n",
      " [-2.27590679e+00 -1.23444434e-01 -4.31059852e+00]\n",
      " [-3.63414380e-05 -1.02264564e+01 -1.57748199e+01]\n",
      " [-9.08439314e-02 -2.44369044e+00 -2.01135454e+01]\n",
      " [-8.15826269e-01 -5.83960844e-01 -1.00976021e+01]\n",
      " [ 0.00000000e+00 -4.01418156e+01 -6.10435139e+01]\n",
      " [-1.99000056e+01 -2.69425552e-01 -1.44315320e+00]\n",
      " [-4.92547615e+00 -9.38909427e-03 -6.17256188e+00]\n",
      " [-1.67877497e+01 -1.05791073e+01 -2.54935618e-05]\n",
      " [-4.53848057e+01 -1.48201066e+01 -3.66192580e-07]\n",
      " [-4.49405651e+01  0.00000000e+00 -3.81129794e+01]\n",
      " [-1.39627285e+00 -2.84382520e-01 -1.25725047e+01]\n",
      " [-5.18264662e+00 -5.66051158e-03 -1.03690159e+01]\n",
      " [-6.01347437e+00 -1.91430893e-01 -1.76155389e+00]\n",
      " [-1.96856123e+01 -3.24553184e-09 -2.15837668e+01]\n",
      " [-2.24003903e+00 -1.12617918e-01 -9.83268217e+00]\n",
      " [-3.10812324e-04 -8.53117656e+00 -9.08334446e+00]\n",
      " [-1.62989957e+01 -8.34688763e-08 -2.47976197e+01]\n",
      " [-6.55890273e+00 -5.28855096e+00 -6.48750992e-03]\n",
      " [-6.64962873e+00 -1.31737012e-03 -1.07244614e+01]\n",
      " [-1.90231184e+01 -5.63079539e-09 -2.25807237e+01]\n",
      " [-8.19050947e+00 -1.05470478e-02 -4.58396167e+00]\n",
      " [-6.20452729e+00 -2.03011019e-03 -1.17630118e+01]\n",
      " [-7.32534509e+00 -1.40951977e-02 -4.31716118e+00]\n",
      " [-3.38620538e+01 -1.86398441e+01 -8.03191824e-09]\n",
      " [-7.04739764e+00 -1.35783526e+01 -8.71316336e-04]\n",
      " [-6.50045669e+00 -1.51405530e-03 -1.14973524e+01]\n",
      " [-2.35877740e+01 -6.01403372e-11 -2.64758781e+01]\n",
      " [-1.42371609e+01 -6.95953053e-03 -4.97121559e+00]\n",
      " [-1.81805717e-08 -1.93510276e+01 -1.80674652e+01]\n",
      " [-7.75503190e-05 -9.46462233e+00 -2.87292111e+01]\n",
      " [-4.50240690e-01 -1.01512705e+00 -8.68614126e+00]\n",
      " [ 0.00000000e+00 -6.08931919e+01 -6.99265622e+01]\n",
      " [-1.41834428e+01 -6.92165401e-07 -2.75309571e+01]\n",
      " [-7.16069628e+00 -2.79094553e-03 -6.20935156e+00]\n",
      " [-5.15135811e-05 -1.00032209e+01 -1.19815991e+01]\n",
      " [-3.91513914e+00 -4.19631541e-02 -3.85577907e+00]\n",
      " [-1.57475029e-07 -1.56639989e+01 -3.45697215e+01]\n",
      " [-1.82690907e+01 -2.52868584e-05 -1.05856987e+01]\n",
      " [-1.54409925e+00 -2.44042125e-01 -5.79548001e+00]\n",
      " [-2.93403546e+00 -5.46484271e-02 -1.69345066e+01]\n",
      " [-1.22905661e+01 -9.65837483e+00 -6.84855002e-05]\n",
      " [-8.72409851e+00 -2.13022599e-01 -1.65182620e+00]\n",
      " [-3.75025338e+01 -3.27405478e+01  0.00000000e+00]\n",
      " [-2.09862121e+01 -5.39543865e-01 -8.74702932e-01]\n",
      " [-1.02886588e-11 -2.52996954e+01 -3.62715634e+01]\n",
      " [-8.94510305e+00 -2.20476089e-03 -6.17926115e+00]\n",
      " [-2.78136416e+01 -5.77364290e-09 -1.89701102e+01]\n",
      " [-2.69802957e+01 -1.93267624e-12 -3.35468716e+01]\n",
      " [-1.53084522e+01 -2.25386771e-07 -2.11146818e+01]\n",
      " [-4.57697507e-03 -5.49059304e+00 -7.72619420e+00]\n",
      " [-8.18093070e+00 -5.07141801e-03 -5.34359954e+00]\n",
      " [-3.55350749e+01 -1.76016218e+01 -2.26836505e-08]\n",
      " [-2.98816133e-07 -1.50535388e+01 -1.85416363e+01]\n",
      " [-8.18545232e-12 -2.62351445e+01 -2.62109637e+01]\n",
      " [ 0.00000000e+00 -3.59668410e+01 -3.89719563e+01]\n",
      " [-2.62190041e+01 -1.63490544e+01 -7.93813228e-08]\n",
      " [ 0.00000000e+00 -3.43347320e+01 -4.03884365e+01]\n",
      " [-8.24779093e-04 -7.10080806e+00 -2.12432996e+01]\n",
      " [ 0.00000000e+00 -7.42729808e+01 -9.09195438e+01]\n",
      " [-1.92608124e+01 -2.79286688e-02 -3.59203355e+00]\n",
      " [-1.72591064e+01 -1.17946854e-01 -2.19591528e+00]\n",
      " [-2.37645883e+01 -2.03768308e+00 -1.39641824e-01]\n",
      " [-1.54153928e+01 -2.02385309e-07 -2.14890365e+01]\n",
      " [-3.03434256e+01 -1.13686838e-13 -3.50410926e+01]\n",
      " [-2.29047588e+01 -1.56035185e-10 -2.38658765e+01]\n",
      " [-1.02369719e+01 -5.59676917e-05 -1.08125560e+01]]\n"
     ]
    }
   ],
   "source": [
    "from scipy.special import logsumexp\n",
    "\n",
    "\n",
    "def NB_classify(class_priors, likelihoods, X_val):\n",
    "\n",
    "    predictions = np.zeros((X_val.shape[0], num_classes))  # an empty numpy array to store the predictions in\n",
    "\n",
    "    sum_of_log_likelihoods = X_val.dot(np.log(likelihoods))\n",
    "    log_joint_prob = sum_of_log_likelihoods + np.log(class_priors)[None, :]\n",
    "    for n, doc in enumerate(X_val):\n",
    "        predictions[n, :] = log_joint_prob[n]\n",
    "        predictions[n, :] -= logsumexp(predictions[n, :])\n",
    "    return predictions\n",
    "\n",
    "predictions = NB_classify(class_priors, likelihoods, X_val)\n",
    "print(predictions)"
   ]
  },
  {
   "cell_type": "markdown",
   "id": "d25d91f5",
   "metadata": {},
   "source": [
    "Use the 'predictions' array above to compute and print the accuracy of the classifier on the validation set.   "
   ]
  },
  {
   "cell_type": "code",
   "execution_count": 23,
   "id": "c70cca90",
   "metadata": {},
   "outputs": [
    {
     "data": {
      "text/plain": [
       "0.695"
      ]
     },
     "execution_count": 23,
     "metadata": {},
     "output_type": "execute_result"
    }
   ],
   "source": [
    "from sklearn.metrics import accuracy_score\n",
    "\n",
    "accuracy_score(val_labels, np.argmax(predictions, axis=1))"
   ]
  },
  {
   "cell_type": "markdown",
   "id": "a322e627",
   "metadata": {},
   "source": [
    "## TASK 1.1c\n",
    "\n",
    "The simplicty of naïve Bayes means that we can quite easily interpret the model. In the code above, we used the functions you implemented, compute_feature_likelihoods and compute_class_priors, to train an NB classifier with our training set. Given this classifier, which are the five n-gram features that most strongly indicate that the document belongs to class 0? Store these features in the 'top_features' list below.    (4 marks)"
   ]
  },
  {
   "cell_type": "code",
   "execution_count": 24,
   "id": "b6369d13",
   "metadata": {},
   "outputs": [
    {
     "name": "stdout",
     "output_type": "stream",
     "text": [
      "['physical risks', 'of extreme', 'extreme weather', 'weather events', 'caused by']\n"
     ]
    }
   ],
   "source": [
    "top_features = []\n",
    "\n",
    "### WRITE YOUR ANSWER HERE\n",
    "\n",
    "# log likelihoods for each class 0,1,2\n",
    "log_likelihoods = np.log(likelihoods)\n",
    "\n",
    "#log-likelihood ratio between class 0 and max from the other classes\n",
    "log_ratios = log_likelihoods[:, 0] - np.max(log_likelihoods[:, 1:], axis=1)\n",
    "\n",
    "# top 5 strongest indicators for class 0\n",
    "top_indices = np.argsort(log_ratios)[-5:][::-1]\n",
    "\n",
    "# top features for class 0\n",
    "top_features = [vectorizer.get_feature_names_out()[i] for i in top_indices]\n",
    "\n",
    "### END OF ANSWER\n",
    "\n",
    "### DO NOT MODIFY\n",
    "print(top_features)\n",
    "pd.DataFrame(top_features).to_csv('./outputs/11c_top_feats.csv')\n",
    "###"
   ]
  },
  {
   "cell_type": "markdown",
   "id": "caecba31",
   "metadata": {},
   "source": [
    "Up to this point, the classifier used bigrams features extracted using CountVectorizer with the wordnet tokenizer. \n",
    "\n",
    "## TASK 1.1d\n",
    "\n",
    "Your task is to improve the naïve Bayes classifier by changing the preprocessing or features only. It is up to you to decide how many changes are needed to improve the classifier -- a single change may be enough to achieve a good result (and maximum marks) and you should only include steps that help performance. Complete the 'preprocess_improved' function below, and run the cell to compute accuracy of the improved classifier on the validation set.     (3 marks)"
   ]
  },
  {
   "cell_type": "code",
   "execution_count": 26,
   "id": "a4a80f2d",
   "metadata": {},
   "outputs": [
    {
     "name": "stderr",
     "output_type": "stream",
     "text": [
      "c:\\Users\\pc\\anaconda3\\envs\\text_analytics\\Lib\\site-packages\\sklearn\\feature_extraction\\text.py:517: UserWarning: The parameter 'token_pattern' will not be used since 'tokenizer' is not None'\n",
      "  warnings.warn(\n",
      "c:\\Users\\pc\\anaconda3\\envs\\text_analytics\\Lib\\site-packages\\sklearn\\feature_extraction\\text.py:402: UserWarning: Your stop_words may be inconsistent with your preprocessing. Tokenizing the stop words generated tokens ['ha', 'u', 'wa'] not in stop_words.\n",
      "  warnings.warn(\n"
     ]
    },
    {
     "name": "stdout",
     "output_type": "stream",
     "text": [
      "0.755\n"
     ]
    }
   ],
   "source": [
    "from nltk.stem import WordNetLemmatizer\n",
    "from nltk.tokenize import word_tokenize\n",
    "\n",
    "def preprocess_improved(train_texts):\n",
    "     ### WRITE YOUR ANSWER HERE\n",
    "\n",
    "    lemmatizer = WordNetLemmatizer()\n",
    "\n",
    "    def lemmatize_tokens(text):\n",
    "        return [lemmatizer.lemmatize(word.lower()) for word in word_tokenize(text) if word.isalpha()]\n",
    "\n",
    "    vectorizer = CountVectorizer(\n",
    "        ngram_range=(1, 2),\n",
    "        tokenizer=lemmatize_tokens,\n",
    "        stop_words='english',\n",
    "        lowercase=False\n",
    "    )\n",
    "\n",
    "    X = vectorizer.fit_transform(train_texts).toarray()\n",
    "    X_val = vectorizer.transform(val_texts).toarray()\n",
    "    num_features = X.shape[1]\n",
    "\n",
    "    ### END OF ANSWER\n",
    "\n",
    "    return X, X_val, vectorizer, num_features\n",
    "\n",
    "\n",
    "X, X_val, vectorizer, num_features = preprocess_improved(train_texts)\n",
    "class_priors = compute_class_priors(train_texts, train_labels)\n",
    "likelihoods = compute_feature_likelihoods(X, train_labels)\n",
    "predictions = NB_classify(class_priors, likelihoods, X_val)\n",
    "predictions_nb = np.argmax(predictions, axis=1)\n",
    "\n",
    "### DO NOT MODIFY\n",
    "pd.DataFrame(predictions_nb).to_csv('./outputs/11d_improved_preds.csv')\n",
    "accuracy_improved = accuracy_score(val_labels, predictions_nb)\n",
    "print(accuracy_improved)\n",
    "###"
   ]
  },
  {
   "cell_type": "markdown",
   "id": "f4c60bcf",
   "metadata": {},
   "source": [
    "## TASK 1.2\n",
    "\n",
    "Below is an implementation of a neural network classifier that we can apply to the same dataset. However, there are some mistakes in the code and some poor choices in the choice of parameters and architecture. Your task is to fix the errors, make better parameter choices, and improve the model's performance. **Modify the code within the next cell** to improve the neural network classifier, then run it and compute its accuracy using the code in the cell after that.   (8 marks)"
   ]
  },
  {
   "cell_type": "code",
   "execution_count": 28,
   "id": "8091f8f2",
   "metadata": {},
   "outputs": [
    {
     "data": {
      "application/vnd.jupyter.widget-view+json": {
       "model_id": "2937b5f014e74057905731fa869c42d5",
       "version_major": 2,
       "version_minor": 0
      },
      "text/plain": [
       "Map:   0%|          | 0/800 [00:00<?, ? examples/s]"
      ]
     },
     "metadata": {},
     "output_type": "display_data"
    },
    {
     "data": {
      "application/vnd.jupyter.widget-view+json": {
       "model_id": "b015f83c40e94c7a9c281db7dc6602a6",
       "version_major": 2,
       "version_minor": 0
      },
      "text/plain": [
       "Map:   0%|          | 0/200 [00:00<?, ? examples/s]"
      ]
     },
     "metadata": {},
     "output_type": "display_data"
    },
    {
     "data": {
      "application/vnd.jupyter.widget-view+json": {
       "model_id": "7f923c828dda4aa5af783c9f44f4130f",
       "version_major": 2,
       "version_minor": 0
      },
      "text/plain": [
       "Map:   0%|          | 0/800 [00:00<?, ? examples/s]"
      ]
     },
     "metadata": {},
     "output_type": "display_data"
    },
    {
     "data": {
      "application/vnd.jupyter.widget-view+json": {
       "model_id": "042c29b63f5443d4a98fded325fa15a4",
       "version_major": 2,
       "version_minor": 0
      },
      "text/plain": [
       "Map:   0%|          | 0/200 [00:00<?, ? examples/s]"
      ]
     },
     "metadata": {},
     "output_type": "display_data"
    },
    {
     "name": "stdout",
     "output_type": "stream",
     "text": [
      "Epoch: 1/15, Train Loss: 1.0874, Train Acc: 39.12%, Val Loss: 1.0870, Val Acc: 40.50%\n",
      "Epoch: 2/15, Train Loss: 1.0541, Train Acc: 45.50%, Val Loss: 1.0628, Val Acc: 49.00%\n",
      "Epoch: 3/15, Train Loss: 0.9618, Train Acc: 55.00%, Val Loss: 0.9539, Val Acc: 53.50%\n",
      "Epoch: 4/15, Train Loss: 0.9858, Train Acc: 51.25%, Val Loss: 1.1028, Val Acc: 43.00%\n",
      "Epoch: 5/15, Train Loss: 0.9558, Train Acc: 54.25%, Val Loss: 0.9828, Val Acc: 50.50%\n",
      "Epoch: 6/15, Train Loss: 0.9546, Train Acc: 57.38%, Val Loss: 0.9729, Val Acc: 50.50%\n",
      "Epoch: 7/15, Train Loss: 0.9759, Train Acc: 54.62%, Val Loss: 1.0749, Val Acc: 46.00%\n",
      "Epoch: 8/15, Train Loss: 0.9304, Train Acc: 58.88%, Val Loss: 0.9951, Val Acc: 48.50%\n",
      "Epoch: 9/15, Train Loss: 0.8586, Train Acc: 60.62%, Val Loss: 0.9471, Val Acc: 52.00%\n",
      "Epoch: 10/15, Train Loss: 0.9686, Train Acc: 52.62%, Val Loss: 1.2360, Val Acc: 33.50%\n",
      "Epoch: 11/15, Train Loss: 1.0465, Train Acc: 46.50%, Val Loss: 1.0512, Val Acc: 42.00%\n",
      "Epoch: 12/15, Train Loss: 0.9579, Train Acc: 54.00%, Val Loss: 0.9941, Val Acc: 49.00%\n",
      "Epoch: 13/15, Train Loss: 0.8541, Train Acc: 66.38%, Val Loss: 0.9437, Val Acc: 58.50%\n",
      "Epoch: 14/15, Train Loss: 0.6835, Train Acc: 74.88%, Val Loss: 0.7597, Val Acc: 66.00%\n",
      "Epoch: 15/15, Train Loss: 0.5339, Train Acc: 83.88%, Val Loss: 0.8260, Val Acc: 68.00%\n",
      "0.68\n"
     ]
    }
   ],
   "source": [
    "### DO NOT MODIFY\n",
    "set_seed(my_student_number)\n",
    "###\n",
    "\n",
    "### WRITE YOUR ANSWER HERE: MODIFY THE CODE WITHIN THIS CELL\n",
    "\n",
    "from torch import nn, optim\n",
    "from torch.utils.data import DataLoader, TensorDataset\n",
    "from gensim.utils import tokenize\n",
    "from gensim.corpora import Dictionary\n",
    "import gensim.downloader\n",
    "import torch\n",
    "import numpy as np\n",
    "import pandas as pd\n",
    "from sklearn.metrics import accuracy_score\n",
    "import matplotlib.pyplot as plt\n",
    "\n",
    "# tokenising the text using Gensim\n",
    "def tok_text(sample): \n",
    "    sample[\"tokens\"] = list(tokenize(sample['text']))\n",
    "    return sample\n",
    "\n",
    "tok_train_dataset = train_dataset.map(tok_text)\n",
    "tok_val_dataset = val_dataset.map(tok_text)\n",
    "\n",
    "# creating the dictionary and then the vocabulary \n",
    "dictionary = Dictionary(tok_train_dataset[\"tokens\"])\n",
    "vocab_size = len(dictionary) + 1  # +1 for padding index - laplace smoothing\n",
    "\n",
    "#converting the tokens to IDs\n",
    "def encode_text(sample):\n",
    "    input_ids = []\n",
    "    for token in sample[\"tokens\"]:\n",
    "        if token in dictionary.token2id:\n",
    "            token_id = dictionary.token2id[token] + 1\n",
    "            if token_id < vocab_size:\n",
    "                input_ids.append(token_id)\n",
    "    sample[\"input_ids\"] = input_ids\n",
    "    return sample\n",
    "\n",
    "pre_train_dataset = tok_train_dataset.map(encode_text)\n",
    "pre_val_dataset = tok_val_dataset.map(encode_text)\n",
    "\n",
    "# sequence length to pad\n",
    "sequence_length = 80\n",
    "def pad_text(sample):\n",
    "    if len(sample['input_ids']) >= sequence_length:\n",
    "        sample['input_ids'] = sample['input_ids'][:sequence_length]\n",
    "    else:\n",
    "        sample['input_ids'] = sample['input_ids'] + [0] * (sequence_length - len(sample['input_ids']))\n",
    "    return sample\n",
    "\n",
    "pad_train_dataset = pre_train_dataset.map(pad_text)\n",
    "pad_val_dataset = pre_val_dataset.map(pad_text)\n",
    "\n",
    "# coverting to the Dataloader\n",
    "batch_size = 32\n",
    "def convert_to_data_loader(dataset, shuffle=True):\n",
    "    input_tensor = torch.tensor(dataset['input_ids'])\n",
    "    label_tensor = torch.tensor(dataset['label']).long()\n",
    "    return DataLoader(TensorDataset(input_tensor, label_tensor), batch_size=batch_size, shuffle=shuffle)\n",
    "\n",
    "train_loader = convert_to_data_loader(pad_train_dataset)\n",
    "val_loader = convert_to_data_loader(pad_val_dataset, shuffle=False)\n",
    "\n",
    "num_classes = 3\n",
    "\n",
    "# using the glove pre trained 100 D vector embeddings\n",
    "glove_wv = gensim.downloader.load('glove-twitter-100')\n",
    "embedding_matrix = torch.zeros((vocab_size, glove_wv.vector_size))\n",
    "for word in glove_wv.index_to_key:\n",
    "    if word in dictionary.token2id:\n",
    "        idx = dictionary.token2id[word] + 1\n",
    "        if idx < vocab_size:\n",
    "            embedding_matrix[idx, :] = torch.tensor(glove_wv[word])\n",
    "\n",
    "# LSTM-based classifier with pretrained embeddings and Dropout\n",
    "class LSTMTextClassifierWithEmbeddings(nn.Module):\n",
    "    def __init__(self, hidden_size, sequence_length, num_classes, embedding_matrix):\n",
    "        super().__init__()\n",
    "        self.embedding_size = embedding_matrix.shape[1]\n",
    "        self.embedding_layer = nn.Embedding.from_pretrained(embedding_matrix, freeze=False)\n",
    "        self.hidden_layer = nn.LSTM(self.embedding_size, hidden_size, batch_first=True, bidirectional=True)\n",
    "        self.activation = nn.ReLU()\n",
    "        self.dropout = nn.Dropout(0.3)  # Added dropout layer\n",
    "        self.output_layer = nn.Linear(hidden_size * 2, num_classes)\n",
    "\n",
    "    def forward(self, input_words):\n",
    "        embedded = self.embedding_layer(input_words)\n",
    "        _, (hidden, _) = self.hidden_layer(embedded)\n",
    "        hidden = hidden.permute(1, 0, 2).reshape(embedded.size(0), -1)\n",
    "        h = self.activation(hidden)\n",
    "        h = self.dropout(h)  # Apply dropout\n",
    "        return self.output_layer(h)\n",
    "\n",
    "\n",
    "#training the model with lr = 0.005 and adam optimizer and 15 epochs\n",
    "def train_nn(num_epochs, model, train_dataloader, dev_dataloader):\n",
    "    optimizer = optim.Adam(model.parameters(), lr=0.0005)\n",
    "    loss_fn = nn.CrossEntropyLoss()\n",
    "    all_dev_losses = []\n",
    "\n",
    "    for e in range(num_epochs):\n",
    "        model.train()\n",
    "        train_losses, total_correct, total_trained = [], 0, 0\n",
    "\n",
    "        for batch in train_dataloader:\n",
    "            input_ids, labels = batch\n",
    "            optimizer.zero_grad()\n",
    "            output = model(input_ids)\n",
    "            loss = loss_fn(output, labels)\n",
    "            loss.backward()\n",
    "            optimizer.step()\n",
    "\n",
    "            train_losses.append(loss.item())\n",
    "            total_correct += (output.argmax(1) == labels).sum().item()\n",
    "            total_trained += labels.size(0)\n",
    "\n",
    "        model.eval()\n",
    "        dev_losses, dev_correct, dev_total = [], 0, 0\n",
    "        for batch in dev_dataloader:\n",
    "            input_ids, labels = batch\n",
    "            output = model(input_ids)\n",
    "            dev_losses.append(loss_fn(output, labels).item())\n",
    "            dev_correct += (output.argmax(1) == labels).sum().item()\n",
    "            dev_total += labels.size(0)\n",
    "\n",
    "        print(f\"Epoch: {e+1}/{num_epochs}, \"\n",
    "              f\"Train Loss: {np.mean(train_losses):.4f}, \"\n",
    "              f\"Train Acc: {total_correct / total_trained * 100:.2f}%, \"\n",
    "              f\"Val Loss: {np.mean(dev_losses):.4f}, \"\n",
    "              f\"Val Acc: {dev_correct / dev_total * 100:.2f}%\")\n",
    "\n",
    "        all_dev_losses.append(np.mean(dev_losses))\n",
    "\n",
    "    return model, all_dev_losses\n",
    "\n",
    "#function that returns both true and predicted labels\n",
    "def predict_nn(trained_model, data_loader):\n",
    "    trained_model.eval()\n",
    "    gold_labs = []\n",
    "    pred_labs = []\n",
    "    for batch in data_loader:\n",
    "        input_ids, labels = batch\n",
    "        with torch.no_grad():\n",
    "            output = trained_model(input_ids)\n",
    "        preds = output.argmax(dim=1)\n",
    "        gold_labs.extend(labels.tolist())\n",
    "        pred_labs.extend(preds.tolist())\n",
    "    return gold_labs, pred_labs\n",
    "\n",
    "embedding_size = 100\n",
    "hidden_size = 128\n",
    "lstm_model = LSTMTextClassifierWithEmbeddings(hidden_size, sequence_length, num_classes, embedding_matrix)\n",
    "trained_model, _ = train_nn(15, lstm_model, train_loader, val_loader)\n",
    "\n",
    "# predicting using the model \n",
    "gold_labs, predictions_nn = predict_nn(trained_model, val_loader)\n",
    "\n",
    "### END OF ANSWER\n",
    "\n",
    "### DO NOT MODIFY\n",
    "pd.DataFrame(predictions_nn).to_csv(\"./outputs/12_nn_preds.csv\")\n",
    "accuracy_nn = accuracy_score(gold_labs, predictions_nn)\n",
    "print(accuracy_nn)\n",
    "###\n"
   ]
  },
  {
   "cell_type": "markdown",
   "id": "665ddf4e",
   "metadata": {},
   "source": [
    "We now explore the use of transformers for building a text classifier. First, let's look at how the process a document. We'll chose one at random from the training set:"
   ]
  },
  {
   "cell_type": "code",
   "execution_count": 29,
   "id": "54d2a23e",
   "metadata": {},
   "outputs": [],
   "source": [
    "### DO NOT MODIFY\n",
    "chosen_document = train_texts[np.random.randint(len(train_texts))]"
   ]
  },
  {
   "cell_type": "markdown",
   "id": "ca45d880",
   "metadata": {},
   "source": [
    "## TASK 1.3a\n",
    "\n",
    "Use the HuggingFace transformers library to load the pretrained BERT model \"prajjwal1/bert-tiny\". Obtain a document embedding for the chosen document given above. Comment your code to explain how it obtains a representation of the document.    (3 marks)"
   ]
  },
  {
   "cell_type": "code",
   "execution_count": 31,
   "id": "1266cce6",
   "metadata": {},
   "outputs": [
    {
     "name": "stderr",
     "output_type": "stream",
     "text": [
      "Asking to truncate to max_length but no maximum length is provided and the model has no predefined maximum length. Default to no truncation.\n"
     ]
    },
    {
     "name": "stdout",
     "output_type": "stream",
     "text": [
      "[-0.20534873008728027, 1.604604959487915, -4.565278053283691, -0.6396442651748657, -0.03463049978017807, 0.5766779780387878, -0.2684665024280548, 1.738054633140564, -0.4769549071788788, 0.880389392375946, 1.3154562711715698, 1.1971750259399414, -0.06102511286735535, 0.3221173584461212, 1.3446972370147705, -0.9198355078697205, -0.8521156907081604, -1.3179185390472412, -1.1516772508621216, 1.1152703762054443, -1.1078038215637207, 0.5770677328109741, 1.5537387132644653, 0.7789525389671326, 2.3459978103637695, -0.4306081533432007, -0.6871887445449829, -0.39781153202056885, -0.8344061374664307, 0.866350531578064, 0.4555981159210205, -2.0086631774902344, -0.5098251104354858, -0.9596834778785706, -0.06644666194915771, -1.627683401107788, -0.7683382630348206, 0.903235137462616, -0.8821029663085938, -0.3914729952812195, 0.6608697175979614, -0.15512506663799286, 0.3929893672466278, -2.5006582736968994, 0.13228638470172882, -2.1427958011627197, 0.2537946105003357, 0.4217519760131836, -0.8126567602157593, 0.22305241227149963, 1.4816821813583374, 2.1864778995513916, -1.3628250360488892, 0.25352007150650024, 0.5381330847740173, -0.7832887172698975, -1.0109460353851318, -0.4733607769012451, -0.1691548079252243, 2.314509391784668, 0.38990163803100586, -0.3760661482810974, -2.0143678188323975, -0.9705911874771118, -0.48983415961265564, 1.6420187950134277, -0.09193865954875946, 1.3489537239074707, -1.5410457849502563, -1.2622554302215576, -1.3086256980895996, -0.21444880962371826, 1.1670373678207397, 0.15579622983932495, -0.7278784513473511, 0.07149263471364975, 0.4014488458633423, -0.8386778235435486, 0.6600760221481323, -0.2998262345790863, -1.0011043548583984, -0.5733897686004639, 0.578459620475769, 0.9765535593032837, 0.5434267520904541, 0.850883424282074, 1.2736361026763916, -1.062013864517212, 1.017055869102478, -2.001978874206543, 2.1553897857666016, 0.48340320587158203, -0.16445927321910858, 0.4769572615623474, 0.39095187187194824, -0.2679941952228546, -1.229598045349121, -0.6944929361343384, 0.35745468735694885, 0.9798154234886169, 0.2068365514278412, -0.4144984781742096, -1.265626311302185, -0.052875712513923645, -0.6586575508117676, -1.7437798976898193, 1.3906923532485962, -0.7901628017425537, 0.861897349357605, -0.15484744310379028, -0.3222619593143463, 0.28048574924468994, 0.12263593077659607, 0.18042537569999695, -0.554274320602417, 0.8028754591941833, 0.23955979943275452, 0.1986015886068344, -0.2781792879104614, -0.8872478604316711, -0.35805588960647583, 1.5593806505203247, 1.092949628829956, 0.7855809330940247, -1.880671739578247, -0.6647698879241943, -1.5841050148010254, 1.477089524269104]\n"
     ]
    }
   ],
   "source": [
    "### DO NOT MODIFY\n",
    "set_seed(my_student_number)\n",
    "###\n",
    "\n",
    "### WRITE YOUR ANSWER HERE\n",
    "\n",
    "from transformers import AutoTokenizer, AutoModel\n",
    "import torch\n",
    "\n",
    "# using the tinyBERT pre trained model \n",
    "tokenizer = AutoTokenizer.from_pretrained(\"prajjwal1/bert-tiny\")\n",
    "model = AutoModel.from_pretrained(\"prajjwal1/bert-tiny\")\n",
    "\n",
    "# tokenizing the documents \n",
    "inputs = tokenizer(chosen_document, return_tensors=\"pt\", truncation=True, padding=True)\n",
    "\n",
    "# model outputs\n",
    "with torch.no_grad():\n",
    "    outputs = model(**inputs)\n",
    "\n",
    "# CLS token representation \n",
    "#as the document embedding\n",
    "cls_embedding = outputs.last_hidden_state[:, 0, :] \n",
    "\n",
    "#covering to a list - doc_emb\n",
    "doc_emb = cls_embedding.squeeze().tolist()\n",
    "\n",
    "### END OF ANSWER\n",
    "\n",
    "### DO NOT MODIFY\n",
    "pd.DataFrame(doc_emb).to_csv('./outputs/13a_sen_emb.csv')\n",
    "print(doc_emb)\n",
    "###\n"
   ]
  },
  {
   "cell_type": "markdown",
   "id": "aa93e1d9",
   "metadata": {},
   "source": [
    "## TASK 1.3b\n",
    "\n",
    "Using the same document embeddings method as the previous task (1.3a), find the most similar document to the 'chosen_document' from within the validation set (from the 'val_texts' object). Use a standard similarity metric that considers the direction but not the magnitude of the embedding vectors.  (2 marks)"
   ]
  },
  {
   "cell_type": "code",
   "execution_count": 34,
   "id": "19d97094",
   "metadata": {},
   "outputs": [
    {
     "name": "stdout",
     "output_type": "stream",
     "text": [
      "As a global company, we have a role and responsibility that extends even beyond the world of health. We are making progress to minimize our environmental impact and maintain resilient global operations by continuing to reduce greenhouse gas emissions —down 48% since 2008— and water consumption. We remain committed to reducing waste and increasing the use of renewable energy in alignment with our bold new sustainability goals for 2030.\n",
      "Electricity Electricity is another significant source of carbon emissions. Since we began tracking our electricity use in 2014, our electricity consumption has decreased by 1% despite a 15% expansion in square footage and a 40% increase in headcount.49 Because of this growth, we were unable to achieve our initial 2020 goal of an 18% reduction. However, we continue to focus on reducing electricity through partnering with our landlords and leveraging energy efficiencies. Exhibit 10 provides additional data on our change in headcount versus electricity consumption. We improve energy efficiency through the consolidation of our data centers, retrofitting for LED lighting, redesigning our office space use, and adjusting our heating, ventilation, and air conditioning systems to more closely correlate to occupancy.\n"
     ]
    }
   ],
   "source": [
    "### DO NOT MODIFY\n",
    "set_seed(my_student_number)\n",
    "###\n",
    "\n",
    "### WRITE YOUR ANSWER HERE\n",
    "\n",
    "from transformers import AutoTokenizer, AutoModel\n",
    "import torch\n",
    "import torch.nn.functional as F\n",
    "\n",
    "# loading the model and tokenizer \n",
    "tokenizer = AutoTokenizer.from_pretrained(\"prajjwal1/bert-tiny\")\n",
    "model = AutoModel.from_pretrained(\"prajjwal1/bert-tiny\")\n",
    "\n",
    "# Again CLS tokens embedding \n",
    "def get_cls_embedding(text):\n",
    "    tokens = tokenizer(text, return_tensors=\"pt\", truncation=True, max_length=128, padding=\"max_length\")\n",
    "    with torch.no_grad():\n",
    "        outputs = model(**tokens)\n",
    "    return outputs.last_hidden_state[0][0] \n",
    "\n",
    "# for a document\n",
    "chosen_embedding = get_cls_embedding(chosen_document)\n",
    "\n",
    "# Computing the cosine similarity between chosen doc and all the documents\n",
    "#  in validation data\n",
    "max_sim = -1\n",
    "most_similar_doc = \"\"\n",
    "\n",
    "for val_text in val_texts:\n",
    "    val_embedding = get_cls_embedding(val_text)\n",
    "    sim = F.cosine_similarity(chosen_embedding, val_embedding, dim=0).item()\n",
    "    if sim > max_sim:\n",
    "        max_sim = sim\n",
    "        most_similar_doc = val_text\n",
    "\n",
    "### END OF ANSWER\n",
    "\n",
    "### DO NOT MODIFY\n",
    "pd.DataFrame([chosen_document, most_similar_doc]).to_csv(\"./outputs/13b_most_similar.csv\")\n",
    "print(chosen_document)\n",
    "print(most_similar_doc)\n",
    "###\n"
   ]
  },
  {
   "cell_type": "markdown",
   "id": "89641896",
   "metadata": {},
   "source": [
    "## TASK 1.3c\n",
    "\n",
    "Implement a classifier based on the same pretrained transformer model, \"prajjwal1/bert-tiny\". Evaluate your model's performance on the validation set. Use an 'auto class' from HuggingFace to build your classifier (see https://huggingface.co/docs/transformers/model_doc/auto).   (6 marks)"
   ]
  },
  {
   "cell_type": "code",
   "execution_count": 35,
   "id": "2e6fd664",
   "metadata": {},
   "outputs": [
    {
     "name": "stderr",
     "output_type": "stream",
     "text": [
      "Some weights of BertForSequenceClassification were not initialized from the model checkpoint at prajjwal1/bert-tiny and are newly initialized: ['classifier.bias', 'classifier.weight']\n",
      "You should probably TRAIN this model on a down-stream task to be able to use it for predictions and inference.\n",
      "c:\\Users\\pc\\anaconda3\\envs\\text_analytics\\Lib\\site-packages\\transformers\\training_args.py:1594: FutureWarning: `evaluation_strategy` is deprecated and will be removed in version 4.46 of 🤗 Transformers. Use `eval_strategy` instead\n",
      "  warnings.warn(\n"
     ]
    },
    {
     "data": {
      "text/html": [
       "\n",
       "    <div>\n",
       "      \n",
       "      <progress value='750' max='750' style='width:300px; height:20px; vertical-align: middle;'></progress>\n",
       "      [750/750 01:09, Epoch 15/15]\n",
       "    </div>\n",
       "    <table border=\"1\" class=\"dataframe\">\n",
       "  <thead>\n",
       " <tr style=\"text-align: left;\">\n",
       "      <th>Epoch</th>\n",
       "      <th>Training Loss</th>\n",
       "      <th>Validation Loss</th>\n",
       "      <th>Accuracy</th>\n",
       "    </tr>\n",
       "  </thead>\n",
       "  <tbody>\n",
       "    <tr>\n",
       "      <td>1</td>\n",
       "      <td>No log</td>\n",
       "      <td>1.012362</td>\n",
       "      <td>0.550000</td>\n",
       "    </tr>\n",
       "    <tr>\n",
       "      <td>2</td>\n",
       "      <td>No log</td>\n",
       "      <td>0.934255</td>\n",
       "      <td>0.570000</td>\n",
       "    </tr>\n",
       "    <tr>\n",
       "      <td>3</td>\n",
       "      <td>No log</td>\n",
       "      <td>0.843450</td>\n",
       "      <td>0.635000</td>\n",
       "    </tr>\n",
       "    <tr>\n",
       "      <td>4</td>\n",
       "      <td>No log</td>\n",
       "      <td>0.769831</td>\n",
       "      <td>0.720000</td>\n",
       "    </tr>\n",
       "    <tr>\n",
       "      <td>5</td>\n",
       "      <td>No log</td>\n",
       "      <td>0.712906</td>\n",
       "      <td>0.755000</td>\n",
       "    </tr>\n",
       "    <tr>\n",
       "      <td>6</td>\n",
       "      <td>No log</td>\n",
       "      <td>0.679034</td>\n",
       "      <td>0.760000</td>\n",
       "    </tr>\n",
       "    <tr>\n",
       "      <td>7</td>\n",
       "      <td>No log</td>\n",
       "      <td>0.651545</td>\n",
       "      <td>0.780000</td>\n",
       "    </tr>\n",
       "    <tr>\n",
       "      <td>8</td>\n",
       "      <td>No log</td>\n",
       "      <td>0.632862</td>\n",
       "      <td>0.775000</td>\n",
       "    </tr>\n",
       "    <tr>\n",
       "      <td>9</td>\n",
       "      <td>No log</td>\n",
       "      <td>0.627638</td>\n",
       "      <td>0.765000</td>\n",
       "    </tr>\n",
       "    <tr>\n",
       "      <td>10</td>\n",
       "      <td>0.678300</td>\n",
       "      <td>0.611236</td>\n",
       "      <td>0.765000</td>\n",
       "    </tr>\n",
       "    <tr>\n",
       "      <td>11</td>\n",
       "      <td>0.678300</td>\n",
       "      <td>0.611779</td>\n",
       "      <td>0.775000</td>\n",
       "    </tr>\n",
       "    <tr>\n",
       "      <td>12</td>\n",
       "      <td>0.678300</td>\n",
       "      <td>0.602859</td>\n",
       "      <td>0.765000</td>\n",
       "    </tr>\n",
       "    <tr>\n",
       "      <td>13</td>\n",
       "      <td>0.678300</td>\n",
       "      <td>0.599293</td>\n",
       "      <td>0.770000</td>\n",
       "    </tr>\n",
       "    <tr>\n",
       "      <td>14</td>\n",
       "      <td>0.678300</td>\n",
       "      <td>0.598742</td>\n",
       "      <td>0.770000</td>\n",
       "    </tr>\n",
       "    <tr>\n",
       "      <td>15</td>\n",
       "      <td>0.678300</td>\n",
       "      <td>0.598956</td>\n",
       "      <td>0.770000</td>\n",
       "    </tr>\n",
       "  </tbody>\n",
       "</table><p>"
      ],
      "text/plain": [
       "<IPython.core.display.HTML object>"
      ]
     },
     "metadata": {},
     "output_type": "display_data"
    },
    {
     "data": {
      "text/html": [],
      "text/plain": [
       "<IPython.core.display.HTML object>"
      ]
     },
     "metadata": {},
     "output_type": "display_data"
    },
    {
     "name": "stdout",
     "output_type": "stream",
     "text": [
      "0.77\n"
     ]
    }
   ],
   "source": [
    "### DO NOT MODIFY\n",
    "set_seed(my_student_number)\n",
    "###\n",
    "\n",
    "### WRITE YOUR ANSWER HERE\n",
    "\n",
    "from transformers import AutoTokenizer, AutoModelForSequenceClassification, TrainingArguments, Trainer\n",
    "from datasets import Dataset\n",
    "import torch\n",
    "import numpy as np\n",
    "from sklearn.metrics import accuracy_score\n",
    "\n",
    "# again loading the tinyBERT model\n",
    "model_name = \"prajjwal1/bert-tiny\"\n",
    "tokenizer = AutoTokenizer.from_pretrained(model_name)\n",
    "model = AutoModelForSequenceClassification.from_pretrained(model_name, num_labels=3)\n",
    "\n",
    "# tokenising\n",
    "def tokenize_function(example):\n",
    "    return tokenizer(example[\"text\"], padding=\"max_length\", truncation=True, max_length=128)\n",
    "\n",
    "# tokenising the datasets \n",
    "train_tokenized = train_dataset.map(tokenize_function, batched=True)\n",
    "val_tokenized = val_dataset.map(tokenize_function, batched=True)\n",
    "\n",
    "\n",
    "train_tokenized.set_format(\"torch\", columns=[\"input_ids\", \"attention_mask\", \"label\"])\n",
    "val_tokenized.set_format(\"torch\", columns=[\"input_ids\", \"attention_mask\", \"label\"])\n",
    "\n",
    "# Accuracy metrics function\n",
    "def compute_metrics(pred):\n",
    "    labels = pred.label_ids\n",
    "    preds = np.argmax(pred.predictions, axis=1)\n",
    "    acc = accuracy_score(labels, preds)\n",
    "    return {\"accuracy\": acc}\n",
    "\n",
    "# training the model\n",
    "training_args = TrainingArguments(\n",
    "    output_dir=\"./bert-tiny-results\",\n",
    "    evaluation_strategy=\"epoch\",\n",
    "    per_device_train_batch_size=16,\n",
    "    per_device_eval_batch_size=32,\n",
    "    num_train_epochs=15,\n",
    "    weight_decay=0.01,\n",
    "    logging_dir='./logs',\n",
    "    save_strategy=\"no\",\n",
    "    seed=my_student_number\n",
    ")\n",
    "\n",
    "trainer = Trainer(\n",
    "    model=model,\n",
    "    args=training_args,\n",
    "    train_dataset=train_tokenized,\n",
    "    eval_dataset=val_tokenized,\n",
    "    compute_metrics=compute_metrics,\n",
    ")\n",
    "trainer.train()\n",
    "\n",
    "# predictions on the validation datset\n",
    "predictions = trainer.predict(val_tokenized)\n",
    "predictions_bert = np.argmax(predictions.predictions, axis=1).tolist()\n",
    "\n",
    "### END OF ANSWER\n",
    "\n",
    "### DO NOT MODIFY\n",
    "pd.DataFrame(predictions_bert).to_csv('./outputs/13c_bert_preds.csv')\n",
    "accuracy_tinybert = accuracy_score(val_dataset[\"label\"], predictions_bert)\n",
    "print(accuracy_tinybert)\n",
    "###\n"
   ]
  },
  {
   "cell_type": "markdown",
   "id": "cd77e312",
   "metadata": {},
   "source": [
    "Comparison of model plottings"
   ]
  },
  {
   "cell_type": "code",
   "execution_count": 36,
   "id": "6761b490",
   "metadata": {},
   "outputs": [
    {
     "data": {
      "image/png": "[encoded data removed]",
      "text/plain": [
       "<Figure size 1000x600 with 1 Axes>"
      ]
     },
     "metadata": {},
     "output_type": "display_data"
    }
   ],
   "source": [
    "import matplotlib.pyplot as plt\n",
    "\n",
    "# Accuracy values\n",
    "methods = [\n",
    "    \"Naïve Bayes (Baseline)\",\n",
    "    \"Naïve Bayes (Improved)\",\n",
    "    \"Neural Network (BiLSTM)\",\n",
    "    \"BERT (Tiny)\"\n",
    "]\n",
    "accuracies = [0.695, 0.755, 0.680, 0.77]\n",
    "plt.figure(figsize=(10, 6))\n",
    "bars = plt.bar(methods, accuracies, color=[\"lightgrey\", \"skyblue\", \"orange\", \"lightgreen\"])\n",
    "for bar in bars:\n",
    "    height = bar.get_height()\n",
    "    plt.text(bar.get_x() + bar.get_width()/2 - 0.1, height + 0.005, f\"{height:.3f}\", fontsize=11)\n",
    "plt.ylim(0.65, 0.78)\n",
    "plt.ylabel(\"Validation Accuracy\")\n",
    "plt.title(\"Comparison of Classifier Accuracies\", fontsize=14)\n",
    "plt.grid(axis=\"y\", linestyle=\"--\", alpha=0.6)\n",
    "plt.xticks(rotation=15)\n",
    "plt.tight_layout()\n",
    "plt.show()\n"
   ]
  },
  {
   "cell_type": "code",
   "execution_count": 37,
   "id": "36175fc5",
   "metadata": {},
   "outputs": [
    {
     "name": "stdout",
     "output_type": "stream",
     "text": [
      "Example 6\n",
      "Text: The British Columbia Carbon Tax Act sets a carbon price of $40 per tonne of CO2e on fuel combustion and is expected to increase by $5 per tonne of CO2e per year, reaching the federal target carbon price of $50 on April 1, 2021. The federal government has stated this program meets the requirements of the federal Greenhouse Gas Pollution Pricing Act. The CleanBC Program for Industry directs an amount equal to the incremental carbon tax paid by industry above $30/tonne into incentives to reduce emissions. The Government of British Columbia has also introduced measures to reduce upstream methane emissions by 45 percent and establish separate sector-level benchmarks to reduce carbon tax costs for industrial facilities.\n",
      "True Label: 1\n",
      "Predicted: 2\n"
     ]
    }
   ],
   "source": [
    "for i, (pred, true) in enumerate(zip(predictions_bert, val_labels)):\n",
    "    if pred != true:\n",
    "        print(f\"Example {i}\")\n",
    "        print(\"Text:\", val_texts[i])\n",
    "        print(\"True Label:\", true)\n",
    "        print(\"Predicted:\", pred)\n",
    "        break"
   ]
  },
  {
   "cell_type": "markdown",
   "id": "71b2ac05",
   "metadata": {},
   "source": [
    "Confusion matrices "
   ]
  },
  {
   "cell_type": "code",
   "execution_count": 38,
   "id": "b8dd40c7",
   "metadata": {},
   "outputs": [
    {
     "data": {
      "image/png": "[encoded data removed]",
      "text/plain": [
       "<Figure size 640x480 with 2 Axes>"
      ]
     },
     "metadata": {},
     "output_type": "display_data"
    },
    {
     "data": {
      "image/png": "[encoded data removed]",
      "text/plain": [
       "<Figure size 640x480 with 2 Axes>"
      ]
     },
     "metadata": {},
     "output_type": "display_data"
    },
    {
     "data": {
      "image/png": "[encoded data removed]",
      "text/plain": [
       "<Figure size 640x480 with 2 Axes>"
      ]
     },
     "metadata": {},
     "output_type": "display_data"
    }
   ],
   "source": [
    "import matplotlib.pyplot as plt\n",
    "import seaborn as sns\n",
    "from sklearn.metrics import confusion_matrix\n",
    "def plot_cm(true_labels, pred_labels, title):\n",
    "    cm = confusion_matrix(true_labels, pred_labels)\n",
    "    sns.heatmap(cm, annot=True, fmt='d', cmap=\"Blues\", xticklabels=[\"Risk\", \"Neutral\", \"Opportunity\"], yticklabels=[\"Risk\", \"Neutral\", \"Opportunity\"])\n",
    "    plt.xlabel(\"Predicted\")\n",
    "    plt.ylabel(\"True\")\n",
    "    plt.title(title)\n",
    "    plt.show()\n",
    "plot_cm(val_labels, predictions_nb, \"Naïve Bayes Confusion Matrix\")\n",
    "plot_cm(gold_labs, predictions_nn, \"Neural Network Confusion Matrix\")\n",
    "plot_cm(val_dataset[\"label\"], predictions_bert, \"TinyBERT Confusion Matrix\")\n"
   ]
  }
 ],
 "metadata": {
  "kernelspec": {
   "display_name": "text_analytics",
   "language": "python",
   "name": "python3"
  },
  "language_info": {
   "codemirror_mode": {
    "name": "ipython",
    "version": 3
   },
   "file_extension": ".py",
   "mimetype": "text/x-python",
   "name": "python",
   "nbconvert_exporter": "python",
   "pygments_lexer": "ipython3",
   "version": "3.11.11"
  }
 },
 "nbformat": 4,
 "nbformat_minor": 5
}
